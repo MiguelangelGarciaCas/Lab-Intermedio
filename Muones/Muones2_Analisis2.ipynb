{
 "cells": [
  {
   "cell_type": "code",
   "execution_count": 2,
   "id": "f27377c8",
   "metadata": {},
   "outputs": [
    {
     "name": "stdout",
     "output_type": "stream",
     "text": [
      "        40000  1724454158\n",
      "0       40000  1724454159\n",
      "1       40009  1724454160\n",
      "2       40004  1724454161\n",
      "3       40002  1724454162\n",
      "4       40006  1724454163\n",
      "...       ...         ...\n",
      "329866  40000  1724776017\n",
      "329867  40000  1724776018\n",
      "329868  40000  1724776019\n",
      "329869  40000  1724776020\n",
      "329870  40000  1724776021\n",
      "\n",
      "[329871 rows x 2 columns]\n"
     ]
    }
   ],
   "source": [
    "import numpy as np\n",
    "import pandas as pd\n",
    "import matplotlib.pyplot as plt\n",
    "import scipy\n",
    "from scipy.optimize import curve_fit\n",
    "\n",
    "data = \"C:/Programación/Lab Intermedio/Muones/muon2.data\"\n",
    "data = pd.read_csv(data, delimiter=' ')\n",
    "\n",
    "print(data)"
   ]
  },
  {
   "cell_type": "code",
   "execution_count": 3,
   "id": "929cb299",
   "metadata": {},
   "outputs": [
    {
     "data": {
      "text/html": [
       "<div>\n",
       "<style scoped>\n",
       "    .dataframe tbody tr th:only-of-type {\n",
       "        vertical-align: middle;\n",
       "    }\n",
       "\n",
       "    .dataframe tbody tr th {\n",
       "        vertical-align: top;\n",
       "    }\n",
       "\n",
       "    .dataframe thead th {\n",
       "        text-align: right;\n",
       "    }\n",
       "</style>\n",
       "<table border=\"1\" class=\"dataframe\">\n",
       "  <thead>\n",
       "    <tr style=\"text-align: right;\">\n",
       "      <th></th>\n",
       "      <th>Tiempo</th>\n",
       "      <th>Fecha</th>\n",
       "    </tr>\n",
       "  </thead>\n",
       "  <tbody>\n",
       "    <tr>\n",
       "      <th>0</th>\n",
       "      <td>40000</td>\n",
       "      <td>1724454159</td>\n",
       "    </tr>\n",
       "    <tr>\n",
       "      <th>1</th>\n",
       "      <td>40009</td>\n",
       "      <td>1724454160</td>\n",
       "    </tr>\n",
       "    <tr>\n",
       "      <th>2</th>\n",
       "      <td>40004</td>\n",
       "      <td>1724454161</td>\n",
       "    </tr>\n",
       "    <tr>\n",
       "      <th>3</th>\n",
       "      <td>40002</td>\n",
       "      <td>1724454162</td>\n",
       "    </tr>\n",
       "    <tr>\n",
       "      <th>4</th>\n",
       "      <td>40006</td>\n",
       "      <td>1724454163</td>\n",
       "    </tr>\n",
       "    <tr>\n",
       "      <th>...</th>\n",
       "      <td>...</td>\n",
       "      <td>...</td>\n",
       "    </tr>\n",
       "    <tr>\n",
       "      <th>329866</th>\n",
       "      <td>40000</td>\n",
       "      <td>1724776017</td>\n",
       "    </tr>\n",
       "    <tr>\n",
       "      <th>329867</th>\n",
       "      <td>40000</td>\n",
       "      <td>1724776018</td>\n",
       "    </tr>\n",
       "    <tr>\n",
       "      <th>329868</th>\n",
       "      <td>40000</td>\n",
       "      <td>1724776019</td>\n",
       "    </tr>\n",
       "    <tr>\n",
       "      <th>329869</th>\n",
       "      <td>40000</td>\n",
       "      <td>1724776020</td>\n",
       "    </tr>\n",
       "    <tr>\n",
       "      <th>329870</th>\n",
       "      <td>40000</td>\n",
       "      <td>1724776021</td>\n",
       "    </tr>\n",
       "  </tbody>\n",
       "</table>\n",
       "<p>329871 rows × 2 columns</p>\n",
       "</div>"
      ],
      "text/plain": [
       "        Tiempo       Fecha\n",
       "0        40000  1724454159\n",
       "1        40009  1724454160\n",
       "2        40004  1724454161\n",
       "3        40002  1724454162\n",
       "4        40006  1724454163\n",
       "...        ...         ...\n",
       "329866   40000  1724776017\n",
       "329867   40000  1724776018\n",
       "329868   40000  1724776019\n",
       "329869   40000  1724776020\n",
       "329870   40000  1724776021\n",
       "\n",
       "[329871 rows x 2 columns]"
      ]
     },
     "execution_count": 3,
     "metadata": {},
     "output_type": "execute_result"
    }
   ],
   "source": [
    "df=pd.DataFrame(data)\n",
    "df=df.rename(columns={'40000':'Tiempo','1724454158':'Fecha'})\n",
    "df"
   ]
  },
  {
   "cell_type": "code",
   "execution_count": null,
   "id": "29ecebbe",
   "metadata": {},
   "outputs": [],
   "source": []
  },
  {
   "cell_type": "code",
   "execution_count": 4,
   "id": "b76da68b",
   "metadata": {},
   "outputs": [
    {
     "data": {
      "text/html": [
       "<div>\n",
       "<style scoped>\n",
       "    .dataframe tbody tr th:only-of-type {\n",
       "        vertical-align: middle;\n",
       "    }\n",
       "\n",
       "    .dataframe tbody tr th {\n",
       "        vertical-align: top;\n",
       "    }\n",
       "\n",
       "    .dataframe thead th {\n",
       "        text-align: right;\n",
       "    }\n",
       "</style>\n",
       "<table border=\"1\" class=\"dataframe\">\n",
       "  <thead>\n",
       "    <tr style=\"text-align: right;\">\n",
       "      <th></th>\n",
       "      <th>Tiempo</th>\n",
       "    </tr>\n",
       "  </thead>\n",
       "  <tbody>\n",
       "    <tr>\n",
       "      <th>67</th>\n",
       "      <td>0.32</td>\n",
       "    </tr>\n",
       "    <tr>\n",
       "      <th>70</th>\n",
       "      <td>0.32</td>\n",
       "    </tr>\n",
       "    <tr>\n",
       "      <th>93</th>\n",
       "      <td>4.68</td>\n",
       "    </tr>\n",
       "    <tr>\n",
       "      <th>118</th>\n",
       "      <td>3.66</td>\n",
       "    </tr>\n",
       "    <tr>\n",
       "      <th>137</th>\n",
       "      <td>1.72</td>\n",
       "    </tr>\n",
       "    <tr>\n",
       "      <th>...</th>\n",
       "      <td>...</td>\n",
       "    </tr>\n",
       "    <tr>\n",
       "      <th>329657</th>\n",
       "      <td>0.90</td>\n",
       "    </tr>\n",
       "    <tr>\n",
       "      <th>329675</th>\n",
       "      <td>5.98</td>\n",
       "    </tr>\n",
       "    <tr>\n",
       "      <th>329689</th>\n",
       "      <td>0.80</td>\n",
       "    </tr>\n",
       "    <tr>\n",
       "      <th>329714</th>\n",
       "      <td>0.50</td>\n",
       "    </tr>\n",
       "    <tr>\n",
       "      <th>329765</th>\n",
       "      <td>2.16</td>\n",
       "    </tr>\n",
       "  </tbody>\n",
       "</table>\n",
       "<p>8805 rows × 1 columns</p>\n",
       "</div>"
      ],
      "text/plain": [
       "        Tiempo\n",
       "67        0.32\n",
       "70        0.32\n",
       "93        4.68\n",
       "118       3.66\n",
       "137       1.72\n",
       "...        ...\n",
       "329657    0.90\n",
       "329675    5.98\n",
       "329689    0.80\n",
       "329714    0.50\n",
       "329765    2.16\n",
       "\n",
       "[8805 rows x 1 columns]"
      ]
     },
     "execution_count": 4,
     "metadata": {},
     "output_type": "execute_result"
    }
   ],
   "source": [
    "df1=df.drop('Fecha', axis=1)\n",
    "df1=df1[df1['Tiempo']<40000]*10**(-3)\n",
    "df1"
   ]
  },
  {
   "cell_type": "code",
   "execution_count": 5,
   "id": "d7c4e662",
   "metadata": {},
   "outputs": [],
   "source": [
    "filas=len(df1)"
   ]
  },
  {
   "cell_type": "code",
   "execution_count": 94,
   "id": "72226494",
   "metadata": {},
   "outputs": [
    {
     "data": {
      "text/html": [
       "<div>\n",
       "<style scoped>\n",
       "    .dataframe tbody tr th:only-of-type {\n",
       "        vertical-align: middle;\n",
       "    }\n",
       "\n",
       "    .dataframe tbody tr th {\n",
       "        vertical-align: top;\n",
       "    }\n",
       "\n",
       "    .dataframe thead th {\n",
       "        text-align: right;\n",
       "    }\n",
       "</style>\n",
       "<table border=\"1\" class=\"dataframe\">\n",
       "  <thead>\n",
       "    <tr style=\"text-align: right;\">\n",
       "      <th></th>\n",
       "      <th>Tiempo</th>\n",
       "      <th>Cantidad</th>\n",
       "      <th>Error Tiempo</th>\n",
       "      <th>Error decay</th>\n",
       "    </tr>\n",
       "  </thead>\n",
       "  <tbody>\n",
       "    <tr>\n",
       "      <th>0</th>\n",
       "      <td>0.04</td>\n",
       "      <td>1</td>\n",
       "      <td>0.01</td>\n",
       "      <td>0.1</td>\n",
       "    </tr>\n",
       "    <tr>\n",
       "      <th>1</th>\n",
       "      <td>0.06</td>\n",
       "      <td>13</td>\n",
       "      <td>0.01</td>\n",
       "      <td>0.1</td>\n",
       "    </tr>\n",
       "    <tr>\n",
       "      <th>2</th>\n",
       "      <td>0.08</td>\n",
       "      <td>47</td>\n",
       "      <td>0.01</td>\n",
       "      <td>0.1</td>\n",
       "    </tr>\n",
       "    <tr>\n",
       "      <th>3</th>\n",
       "      <td>0.10</td>\n",
       "      <td>81</td>\n",
       "      <td>0.01</td>\n",
       "      <td>0.1</td>\n",
       "    </tr>\n",
       "    <tr>\n",
       "      <th>4</th>\n",
       "      <td>0.12</td>\n",
       "      <td>102</td>\n",
       "      <td>0.01</td>\n",
       "      <td>0.1</td>\n",
       "    </tr>\n",
       "    <tr>\n",
       "      <th>...</th>\n",
       "      <td>...</td>\n",
       "      <td>...</td>\n",
       "      <td>...</td>\n",
       "      <td>...</td>\n",
       "    </tr>\n",
       "    <tr>\n",
       "      <th>603</th>\n",
       "      <td>19.30</td>\n",
       "      <td>1</td>\n",
       "      <td>0.01</td>\n",
       "      <td>0.1</td>\n",
       "    </tr>\n",
       "    <tr>\n",
       "      <th>604</th>\n",
       "      <td>19.38</td>\n",
       "      <td>1</td>\n",
       "      <td>0.01</td>\n",
       "      <td>0.1</td>\n",
       "    </tr>\n",
       "    <tr>\n",
       "      <th>605</th>\n",
       "      <td>19.42</td>\n",
       "      <td>1</td>\n",
       "      <td>0.01</td>\n",
       "      <td>0.1</td>\n",
       "    </tr>\n",
       "    <tr>\n",
       "      <th>606</th>\n",
       "      <td>19.54</td>\n",
       "      <td>1</td>\n",
       "      <td>0.01</td>\n",
       "      <td>0.1</td>\n",
       "    </tr>\n",
       "    <tr>\n",
       "      <th>607</th>\n",
       "      <td>19.74</td>\n",
       "      <td>1</td>\n",
       "      <td>0.01</td>\n",
       "      <td>0.1</td>\n",
       "    </tr>\n",
       "  </tbody>\n",
       "</table>\n",
       "<p>608 rows × 4 columns</p>\n",
       "</div>"
      ],
      "text/plain": [
       "     Tiempo  Cantidad  Error Tiempo  Error decay\n",
       "0      0.04         1          0.01          0.1\n",
       "1      0.06        13          0.01          0.1\n",
       "2      0.08        47          0.01          0.1\n",
       "3      0.10        81          0.01          0.1\n",
       "4      0.12       102          0.01          0.1\n",
       "..      ...       ...           ...          ...\n",
       "603   19.30         1          0.01          0.1\n",
       "604   19.38         1          0.01          0.1\n",
       "605   19.42         1          0.01          0.1\n",
       "606   19.54         1          0.01          0.1\n",
       "607   19.74         1          0.01          0.1\n",
       "\n",
       "[608 rows x 4 columns]"
      ]
     },
     "execution_count": 94,
     "metadata": {},
     "output_type": "execute_result"
    }
   ],
   "source": [
    "conteo_df = df1.groupby('Tiempo').size().reset_index(name='Cantidad')\n",
    "#conteo_df=df1.groupby('error-Tiempo').size().reset_index(name='Cantidad')\n",
    "conteo_df['Error Tiempo']=0.01\n",
    "conteo_df['Error decay']=0.1\n",
    "conteo_df"
   ]
  },
  {
   "cell_type": "code",
   "execution_count": 95,
   "id": "f8b7e1cf",
   "metadata": {},
   "outputs": [],
   "source": [
    "Time,Cantidad=np.array(conteo_df['Tiempo']), np.array(conteo_df['Cantidad'])"
   ]
  },
  {
   "cell_type": "code",
   "execution_count": 96,
   "id": "8505f8f6",
   "metadata": {},
   "outputs": [],
   "source": [
    "#plt.scatter(conteo_df['Cantidad'],conteo_df['Tiempo'], s=1)"
   ]
  },
  {
   "cell_type": "code",
   "execution_count": 97,
   "id": "28a68664",
   "metadata": {},
   "outputs": [],
   "source": [
    "Ter, Der=np.array(conteo_df['Error Tiempo']),np.array(conteo_df['Error decay'])"
   ]
  },
  {
   "cell_type": "code",
   "execution_count": 98,
   "id": "6a118432",
   "metadata": {},
   "outputs": [],
   "source": [
    "f_cum=np.cumsum(Cantidad)"
   ]
  },
  {
   "cell_type": "code",
   "execution_count": 99,
   "id": "06c87018",
   "metadata": {},
   "outputs": [],
   "source": [
    "decay=filas-f_cum\n",
    "#decay[-1]=1/10000000"
   ]
  },
  {
   "cell_type": "code",
   "execution_count": null,
   "id": "ca66df6e",
   "metadata": {},
   "outputs": [],
   "source": []
  },
  {
   "cell_type": "code",
   "execution_count": 100,
   "id": "14966f97",
   "metadata": {},
   "outputs": [
    {
     "data": {
      "text/plain": [
       "Text(0, 0.5, 'Frecuencia')"
      ]
     },
     "execution_count": 100,
     "metadata": {},
     "output_type": "execute_result"
    },
    {
     "data": {
      "image/png": "[encoded data removed]",
      "text/plain": [
       "<Figure size 640x480 with 1 Axes>"
      ]
     },
     "metadata": {},
     "output_type": "display_data"
    }
   ],
   "source": [
    "plt.scatter(Time, decay, s=1)\n",
    "plt.xlabel('Muon Decay Time (µs)')\n",
    "plt.ylabel('Frecuencia')"
   ]
  },
  {
   "cell_type": "code",
   "execution_count": 101,
   "id": "8b52b6d7",
   "metadata": {},
   "outputs": [],
   "source": [
    "#def expo(x,a,b):\n",
    " #   return a*np.exp(-x/b)"
   ]
  },
  {
   "cell_type": "code",
   "execution_count": 102,
   "id": "25ae012d",
   "metadata": {},
   "outputs": [
    {
     "name": "stderr",
     "output_type": "stream",
     "text": [
      "C:\\Users\\Personal\\AppData\\Local\\Temp\\ipykernel_19196\\2302877479.py:1: RuntimeWarning: overflow encountered in exp\n",
      "  param, cov= scipy.optimize.curve_fit(lambda t,a,b,c: a*np.exp(-t*b) +c , Time,decay)\n",
      "C:\\Users\\Personal\\AppData\\Local\\Temp\\ipykernel_19196\\2302877479.py:1: RuntimeWarning: overflow encountered in multiply\n",
      "  param, cov= scipy.optimize.curve_fit(lambda t,a,b,c: a*np.exp(-t*b) +c , Time,decay)\n"
     ]
    },
    {
     "data": {
      "text/plain": [
       "array([4.68662496e+00, 4.62153278e-04, 1.56957435e+00])"
      ]
     },
     "execution_count": 102,
     "metadata": {},
     "output_type": "execute_result"
    }
   ],
   "source": [
    "param, cov= scipy.optimize.curve_fit(lambda t,a,b,c: a*np.exp(-t*b) +c , Time,decay)\n",
    "incert =np.sqrt(np.diag(cov))\n",
    "incert"
   ]
  },
  {
   "cell_type": "code",
   "execution_count": 103,
   "id": "d3358f32",
   "metadata": {},
   "outputs": [
    {
     "data": {
      "text/plain": [
       "(array([8.96220762e+03, 4.70495315e-01, 7.40009170e+01]),\n",
       " array([4.68662496e+00, 4.62153278e-04, 1.56957435e+00]))"
      ]
     },
     "execution_count": 103,
     "metadata": {},
     "output_type": "execute_result"
    }
   ],
   "source": [
    "param, incert"
   ]
  },
  {
   "cell_type": "code",
   "execution_count": 104,
   "id": "3c6cc1b2",
   "metadata": {},
   "outputs": [
    {
     "data": {
      "text/plain": [
       "2.1254196741679126"
      ]
     },
     "execution_count": 104,
     "metadata": {},
     "output_type": "execute_result"
    }
   ],
   "source": [
    "1/param[1]"
   ]
  },
  {
   "cell_type": "code",
   "execution_count": 105,
   "id": "a93fabb6",
   "metadata": {},
   "outputs": [
    {
     "data": {
      "text/plain": [
       "array([9036.20854069, 8898.34492242, 8762.60202909, 8628.94723808,\n",
       "       8497.34842856, 8367.77397385, 8240.19273375, 8114.57404708,\n",
       "       7990.88772433, 7869.10404039, 7749.19372739, 7631.12796768,\n",
       "       7514.87838693, 7400.41704725, 7287.71644054, 7176.74948184,\n",
       "       7067.48950284, 6959.91024545, 6853.9858555 , 6749.69087656,\n",
       "       6647.00024375, 6545.88927778, 6446.33367899, 6348.30952152,\n",
       "       6251.79324756, 6156.76166166, 6063.19192522, 5971.06155092,\n",
       "       5880.34839739, 5791.03066384, 5703.08688484, 5616.49592515,\n",
       "       5531.23697466, 5447.28954338, 5364.63345649, 5283.24884955,\n",
       "       5203.11616365, 5124.21614079, 5046.52981918, 4970.03852874,\n",
       "       4894.72388655, 4820.56779253, 4747.55242497, 4675.66023633,\n",
       "       4604.87394902, 4535.1765512 , 4466.55129273, 4398.98168113,\n",
       "       4332.45147762, 4266.94469323, 4202.44558492, 4138.93865185,\n",
       "       4076.4086316 , 4014.84049655, 3954.21945024, 3894.5309238 ,\n",
       "       3835.76057251, 3777.89427227, 3720.91811627, 3664.81841163,\n",
       "       3609.5816761 , 3555.1946348 , 3501.64421709, 3448.91755338,\n",
       "       3397.00197205, 3345.88499639, 3295.55434164, 3245.99791199,\n",
       "       3197.20379773, 3149.16027231, 3101.85578962, 3055.2789811 ,\n",
       "       3009.41865313, 2964.26378424, 2919.80352251, 2876.02718296,\n",
       "       2832.92424496, 2790.48434974, 2748.69729785, 2707.55304676,\n",
       "       2667.0417084 , 2627.15354682, 2587.87897583, 2549.20855671,\n",
       "       2511.13299592, 2473.64314289, 2436.72998782, 2400.38465949,\n",
       "       2364.59842314, 2329.36267839, 2294.66895716, 2260.50892162,\n",
       "       2226.87436219, 2193.75719561, 2161.14946293, 2129.04332765,\n",
       "       2097.4310738 , 2066.30510412, 2035.65793822, 2005.48221075,\n",
       "       1975.7706697 , 1946.51617457, 1917.71169475, 1889.35030774,\n",
       "       1861.42519755, 1833.92965304, 1806.85706628, 1780.20093101,\n",
       "       1753.95484107, 1728.1124888 , 1702.66766361, 1677.61425043,\n",
       "       1652.94622825, 1628.65766869, 1604.74273456, 1581.19567847,\n",
       "       1558.01084143, 1535.18265151, 1512.70562249, 1490.57435254,\n",
       "       1468.78352291, 1447.32789671, 1426.20231756, 1405.40170843,\n",
       "       1384.92107038, 1364.75548137, 1344.90009506, 1325.35013968,\n",
       "       1306.10091686, 1287.14780049, 1268.48623563, 1250.11173741,\n",
       "       1232.01988996, 1214.20634531, 1196.6668224 , 1179.39710602,\n",
       "       1162.39304579, 1145.65055518, 1129.16561053, 1112.93425006,\n",
       "       1096.95257295, 1081.21673838, 1065.7229646 , 1050.46752804,\n",
       "       1035.44676243, 1020.65705786, 1006.09485998,  991.75666911,\n",
       "        977.63903939,  963.73857799,  950.05194425,  936.57584891,\n",
       "        923.3070533 ,  910.24236859,  897.37865497,  884.71282095,\n",
       "        872.24182261,  859.96266282,  847.87239057,  835.96810026,\n",
       "        824.24693095,  812.70606575,  801.34273108,  790.15419602,\n",
       "        779.13777167,  768.2908105 ,  757.61070568,  747.0948905 ,\n",
       "        736.74083773,  726.54605903,  716.5081043 ,  706.62456117,\n",
       "        696.89305436,  687.31124511,  677.87683068,  668.58754372,\n",
       "        659.44115176,  650.43545669,  641.56829419,  632.83753325,\n",
       "        624.24107564,  615.7768554 ,  607.44283835,  599.2370216 ,\n",
       "        591.15743308,  583.20213105,  575.36920363,  567.65676837,\n",
       "        560.06297177,  552.58598882,  545.22402261,  537.97530387,\n",
       "        530.83809054,  523.81066735,  516.89134542,  510.07846187,\n",
       "        503.37037936,  496.76548577,  490.26219377,  483.85894045,\n",
       "        477.55418693,  471.34641801,  465.23414179,  459.21588935,\n",
       "        453.29021432,  447.45569262,  441.71092204,  436.05452198,\n",
       "        430.48513304,  425.00141676,  419.60205525,  414.2857509 ,\n",
       "        409.05122605,  403.89722273,  398.82250227,  393.8258451 ,\n",
       "        388.90605037,  384.06193574,  379.29233703,  374.59610798,\n",
       "        369.97211996,  365.41926171,  360.93643905,  356.52257463,\n",
       "        352.1766077 ,  347.8974938 ,  343.68420454,  339.53572736,\n",
       "        335.45106527,  331.42923662,  327.46927485,  323.57022827,\n",
       "        319.73115985,  315.95114696,  312.22928115,  308.56466796,\n",
       "        304.95642669,  301.40369018,  297.90560461,  294.46132931,\n",
       "        291.07003652,  287.73091122,  284.44315093,  281.20596551,\n",
       "        278.01857699,  274.88021935,  271.79013835,  268.74759137,\n",
       "        265.75184721,  262.80218591,  259.89789857,  257.03828724,\n",
       "        254.22266466,  251.45035417,  248.72068951,  246.03301466,\n",
       "        243.3866837 ,  240.78106066,  238.21551933,  235.68944315,\n",
       "        233.20222502,  230.75326721,  228.34198117,  225.96778739,\n",
       "        223.63011531,  221.3284031 ,  219.06209761,  216.83065419,\n",
       "        214.63353657,  212.4702167 ,  210.3401747 ,  208.24289865,\n",
       "        206.17788453,  204.14463605,  202.14266458,  200.17148898,\n",
       "        198.23063553,  196.3196378 ,  194.4380365 ,  192.58537946,\n",
       "        190.76122143,  188.965124  ,  187.19665554,  185.45539102,\n",
       "        183.74091199,  182.0528064 ,  180.39066856,  178.75409901,\n",
       "        177.14270444,  175.55609759,  173.99389716,  172.4557277 ,\n",
       "        170.94121955,  169.45000875,  167.9817369 ,  166.53605115,\n",
       "        165.11260405,  163.71105352,  162.33106273,  160.97230002,\n",
       "        159.63443885,  158.3171577 ,  157.02013999,  155.74307401,\n",
       "        154.48565285,  153.24757431,  152.02854086,  150.82825952,\n",
       "        149.64644184,  148.4828038 ,  147.33706573,  146.2089523 ,\n",
       "        145.09819238,  144.00451903,  142.92766941,  141.86738473,\n",
       "        140.82341016,  139.79549482,  138.78339167,  137.78685748,\n",
       "        136.80565275,  135.83954166,  134.88829205,  133.95167529,\n",
       "        133.0294663 ,  132.12144344,  131.22738849,  130.34708659,\n",
       "        129.48032618,  128.62689894,  127.78659978,  126.95922676,\n",
       "        126.14458102,  125.3424668 ,  124.55269132,  123.77506478,\n",
       "        123.00940029,  122.25551385,  121.51322427,  120.78235317,\n",
       "        120.06272489,  119.35416649,  118.65650768,  117.9695808 ,\n",
       "        117.29322076,  116.62726502,  115.97155352,  115.32592869,\n",
       "        114.69023536,  114.06432075,  113.44803445,  112.84122834,\n",
       "        112.24375659,  111.65547562,  111.07624403,  110.50592264,\n",
       "        109.94437437,  109.39146428,  108.84705947,  108.31102912,\n",
       "        107.78324441,  107.26357849,  106.75190647,  106.24810538,\n",
       "        105.75205416,  105.26363358,  104.78272626,  104.30921663,\n",
       "        103.8429909 ,  103.38393701,  102.93194464,  102.48690516,\n",
       "        102.04871163,  101.61725874,  101.19244278,  100.77416167,\n",
       "        100.36231489,   99.95680345,   99.55752991,   99.1643983 ,\n",
       "         98.77731414,   98.39618441,   98.02091751,   97.65142327,\n",
       "         97.28761286,   96.92939887,   96.57669521,   96.2294171 ,\n",
       "         95.8874811 ,   95.55080502,   95.21930796,   94.89291023,\n",
       "         94.57153342,   94.25510026,   93.94353473,   93.63676194,\n",
       "         93.33470817,   93.03730082,   92.74446842,   92.4561406 ,\n",
       "         92.17224806,   91.89272257,   91.61749696,   91.34650509,\n",
       "         91.07968182,   90.81696303,   90.55828559,   90.30358732,\n",
       "         90.05280702,   89.80588442,   89.56276017,   89.32337585,\n",
       "         89.08767392,   88.85559774,   88.62709154,   88.40210039,\n",
       "         88.18057024,   87.96244783,   87.74768075,   87.53621739,\n",
       "         87.32800691,   87.12299929,   86.92114526,   86.72239631,\n",
       "         86.52670466,   86.33402329,   86.1443059 ,   85.95750689,\n",
       "         85.77358136,   85.59248512,   85.41417465,   85.23860708,\n",
       "         85.06574023,   84.89553255,   84.72794313,   84.56293171,\n",
       "         84.40045862,   84.24048482,   84.08297186,   83.92788188,\n",
       "         83.77517762,   83.62482237,   83.47678001,   83.33101494,\n",
       "         83.18749215,   83.04617714,   82.90703594,   82.77003512,\n",
       "         82.63514176,   82.50232343,   82.37154821,   82.24278468,\n",
       "         82.11600189,   81.99116937,   81.86825712,   81.7472356 ,\n",
       "         81.62807573,   81.51074887,   81.39522682,   81.28148182,\n",
       "         81.16948653,   81.05921404,   80.95063785,   80.84373186,\n",
       "         80.73847039,   80.63482812,   80.53278016,   80.43230199,\n",
       "         80.33336944,   80.23595875,   80.14004651,   80.04560967,\n",
       "         79.95262552,   79.86107174,   79.7709263 ,   79.68216755,\n",
       "         79.59477415,   79.50872511,   79.42399974,   79.34057768,\n",
       "         79.25843888,   79.17756361,   79.09793242,   79.01952619,\n",
       "         78.94232605,   78.86631347,   78.79147018,   78.71777818,\n",
       "         78.64521977,   78.5737775 ,   78.50343422,   78.43417302,\n",
       "         78.36597724,   78.2988305 ,   78.23271667,   78.16761985,\n",
       "         78.1035244 ,   78.04041491,   77.97827623,   77.91709341,\n",
       "         77.85685175,   77.79753678,   77.73913423,   77.68163008,\n",
       "         77.6250105 ,   77.56926189,   77.51437084,   77.46032417,\n",
       "         77.40710889,   77.35471221,   77.30312154,   77.25232447,\n",
       "         77.2023088 ,   77.15306252,   77.10457377,   77.05683092,\n",
       "         77.00982249,   76.96353717,   76.91796385,   76.87309158,\n",
       "         76.82890957,   76.78540719,   76.74257401,   76.70039972,\n",
       "         76.65887419,   76.61798743,   76.57772963,   76.5380911 ,\n",
       "         76.49906232,   76.46063392,   76.42279665,   76.38554142,\n",
       "         76.34885928,   76.31274141,   76.27717914,   76.24216391,\n",
       "         76.20768732,   76.17374107,   76.140317  ,   76.1074071 ,\n",
       "         76.07500343,   76.04309823,   76.01168382,   75.98075265,\n",
       "         75.95029728,   75.9203104 ,   75.89078481,   75.8617134 ,\n",
       "         75.83308919,   75.80490529,   75.77715495,   75.74983148,\n",
       "         75.72292833,   75.69643901,   75.67035718,   75.64467656,\n",
       "         75.61939098,   75.59449436,   75.56998072,   75.54584416,\n",
       "         75.5220789 ,   75.49867921,   75.47563947,   75.45295415,\n",
       "         75.43061779,   75.40862502,   75.38697057,   75.36564922,\n",
       "         75.34465585,   75.32398542,   75.30363296,   75.28359357,\n",
       "         75.26386245,   75.24443484,   75.22530609,   75.20647159,\n",
       "         75.18792681,   75.16966731,   75.15168868,   75.13398662,\n",
       "         75.11655687,   75.09939523,   75.08249759,   75.06585988,\n",
       "         75.0494781 ,   75.03334833,   75.01746667,   75.00182931,\n",
       "         74.9864325 ,   74.97127254,   74.95634578,   74.94164864,\n",
       "         74.92717757,   74.91292912,   74.89889984,   74.88508637,\n",
       "         74.8714854 ,   74.85809364,   74.84490788,   74.83192496,\n",
       "         74.81914175,   74.80655519,   74.79416224,   74.78195992,\n",
       "         74.76994532,   74.75811553,   74.74646771,   74.73499908])"
      ]
     },
     "execution_count": 105,
     "metadata": {},
     "output_type": "execute_result"
    }
   ],
   "source": [
    "x=np.linspace(0,20,len(decay))\n",
    "#y=expo(x,param[0], param[1])\n",
    "y=param[0]*np.exp(-x*param[1])+param[2]\n",
    "y"
   ]
  },
  {
   "cell_type": "code",
   "execution_count": 111,
   "id": "8d973c77",
   "metadata": {},
   "outputs": [
    {
     "data": {
      "text/plain": [
       "Text(0.5, 1.0, 'Frecuencia vs. Tiempo (regresión)')"
      ]
     },
     "execution_count": 111,
     "metadata": {},
     "output_type": "execute_result"
    },
    {
     "data": {
      "image/png": "[encoded data removed]",
      "text/plain": [
       "<Figure size 640x480 with 1 Axes>"
      ]
     },
     "metadata": {},
     "output_type": "display_data"
    }
   ],
   "source": [
    "plt.plot(x,y,color='red')\n",
    "plt.scatter(Time, decay, s=5)\n",
    "#plt.errorbar(Time, decay,Ter,Der,fmt='o')\n",
    "plt.xlabel('Muon Decay Time (µs)')\n",
    "plt.ylabel('Frecuencia')\n",
    "plt.title('Frecuencia vs. Tiempo (regresión)')"
   ]
  },
  {
   "cell_type": "code",
   "execution_count": 107,
   "id": "972456af",
   "metadata": {},
   "outputs": [],
   "source": [
    "y_fit=param[0]*np.exp(-Time*param[1])+param[2]"
   ]
  },
  {
   "cell_type": "code",
   "execution_count": 108,
   "id": "302d37d8",
   "metadata": {},
   "outputs": [],
   "source": [
    "residual=(decay-y_fit)"
   ]
  },
  {
   "cell_type": "code",
   "execution_count": 109,
   "id": "06f0793d",
   "metadata": {},
   "outputs": [
    {
     "data": {
      "text/plain": [
       "Text(0.5, 1.0, 'Frecuencia vs. Tiempo (regresión e incertidumbres)')"
      ]
     },
     "execution_count": 109,
     "metadata": {},
     "output_type": "execute_result"
    },
    {
     "data": {
      "image/png": "[encoded data removed]",
      "text/plain": [
       "<Figure size 640x480 with 1 Axes>"
      ]
     },
     "metadata": {},
     "output_type": "display_data"
    }
   ],
   "source": [
    "plt.plot(x,y,color='red')\n",
    "plt.scatter(Time, decay, s=5)\n",
    "plt.errorbar(Time, decay,Ter,Der,fmt='o')\n",
    "plt.xlabel('Muon Decay Time (µs)')\n",
    "plt.ylabel('Frecuencia')\n",
    "plt.title('Frecuencia vs. Tiempo (regresión e incertidumbres)')"
   ]
  },
  {
   "cell_type": "code",
   "execution_count": 110,
   "id": "e6dff1f8",
   "metadata": {},
   "outputs": [
    {
     "data": {
      "text/plain": [
       "<matplotlib.lines.Line2D at 0x26eeab6a650>"
      ]
     },
     "execution_count": 110,
     "metadata": {},
     "output_type": "execute_result"
    },
    {
     "data": {
      "image/png": "[encoded data removed]",
      "text/plain": [
       "<Figure size 640x480 with 1 Axes>"
      ]
     },
     "metadata": {},
     "output_type": "display_data"
    }
   ],
   "source": [
    "fig, ax = plt.subplots()\n",
    "ax.set_title('Residuales segunda toma de datos de la regresión exponencial con una constante')\n",
    "ax.scatter(Time,residual, s=1)\n",
    "ax.set_xlabel('Muon Decay Time (µs)')\n",
    "ax.set_ylabel('Residuales')\n",
    "ax.axhline(0, color='black', linewidth=1, linestyle='--')"
   ]
  },
  {
   "cell_type": "code",
   "execution_count": null,
   "id": "b145eeb9",
   "metadata": {},
   "outputs": [],
   "source": []
  },
  {
   "cell_type": "code",
   "execution_count": null,
   "id": "2962dd3a",
   "metadata": {},
   "outputs": [],
   "source": []
  }
 ],
 "metadata": {
  "kernelspec": {
   "display_name": "Python 3 (ipykernel)",
   "language": "python",
   "name": "python3"
  },
  "language_info": {
   "codemirror_mode": {
    "name": "ipython",
    "version": 3
   },
   "file_extension": ".py",
   "mimetype": "text/x-python",
   "name": "python",
   "nbconvert_exporter": "python",
   "pygments_lexer": "ipython3",
   "version": "3.11.5"
  }
 },
 "nbformat": 4,
 "nbformat_minor": 5
}

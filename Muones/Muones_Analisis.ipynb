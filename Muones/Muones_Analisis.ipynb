{
 "cells": [
  {
   "cell_type": "code",
   "execution_count": 202,
   "id": "f27377c8",
   "metadata": {},
   "outputs": [
    {
     "name": "stdout",
     "output_type": "stream",
     "text": [
      "        40000  1715382134\n",
      "0       40000  1715382135\n",
      "1       40000  1715382136\n",
      "2       40000  1715382137\n",
      "3       40000  1715382138\n",
      "4       40000  1715382139\n",
      "...       ...         ...\n",
      "503741  40000  1724170992\n",
      "503742  40000  1724170993\n",
      "503743  40000  1724170994\n",
      "503744  40000  1724170995\n",
      "503745  40000  1724170996\n",
      "\n",
      "[503746 rows x 2 columns]\n"
     ]
    }
   ],
   "source": [
    "import numpy as np\n",
    "import pandas as pd\n",
    "import matplotlib.pyplot as plt\n",
    "import scipy\n",
    "from scipy.optimize import curve_fit\n",
    "\n",
    "data = \"C:/Programación/Lab Intermedio/Muones/muon.data\"\n",
    "data = pd.read_csv(data, delimiter=' ')\n",
    "\n",
    "print(data)"
   ]
  },
  {
   "cell_type": "code",
   "execution_count": 210,
   "id": "929cb299",
   "metadata": {},
   "outputs": [
    {
     "data": {
      "text/html": [
       "<div>\n",
       "<style scoped>\n",
       "    .dataframe tbody tr th:only-of-type {\n",
       "        vertical-align: middle;\n",
       "    }\n",
       "\n",
       "    .dataframe tbody tr th {\n",
       "        vertical-align: top;\n",
       "    }\n",
       "\n",
       "    .dataframe thead th {\n",
       "        text-align: right;\n",
       "    }\n",
       "</style>\n",
       "<table border=\"1\" class=\"dataframe\">\n",
       "  <thead>\n",
       "    <tr style=\"text-align: right;\">\n",
       "      <th></th>\n",
       "      <th>Tiempo</th>\n",
       "      <th>Fecha</th>\n",
       "    </tr>\n",
       "  </thead>\n",
       "  <tbody>\n",
       "    <tr>\n",
       "      <th>0</th>\n",
       "      <td>40000</td>\n",
       "      <td>1715382135</td>\n",
       "    </tr>\n",
       "    <tr>\n",
       "      <th>1</th>\n",
       "      <td>40000</td>\n",
       "      <td>1715382136</td>\n",
       "    </tr>\n",
       "    <tr>\n",
       "      <th>2</th>\n",
       "      <td>40000</td>\n",
       "      <td>1715382137</td>\n",
       "    </tr>\n",
       "    <tr>\n",
       "      <th>3</th>\n",
       "      <td>40000</td>\n",
       "      <td>1715382138</td>\n",
       "    </tr>\n",
       "    <tr>\n",
       "      <th>4</th>\n",
       "      <td>40000</td>\n",
       "      <td>1715382139</td>\n",
       "    </tr>\n",
       "    <tr>\n",
       "      <th>...</th>\n",
       "      <td>...</td>\n",
       "      <td>...</td>\n",
       "    </tr>\n",
       "    <tr>\n",
       "      <th>503741</th>\n",
       "      <td>40000</td>\n",
       "      <td>1724170992</td>\n",
       "    </tr>\n",
       "    <tr>\n",
       "      <th>503742</th>\n",
       "      <td>40000</td>\n",
       "      <td>1724170993</td>\n",
       "    </tr>\n",
       "    <tr>\n",
       "      <th>503743</th>\n",
       "      <td>40000</td>\n",
       "      <td>1724170994</td>\n",
       "    </tr>\n",
       "    <tr>\n",
       "      <th>503744</th>\n",
       "      <td>40000</td>\n",
       "      <td>1724170995</td>\n",
       "    </tr>\n",
       "    <tr>\n",
       "      <th>503745</th>\n",
       "      <td>40000</td>\n",
       "      <td>1724170996</td>\n",
       "    </tr>\n",
       "  </tbody>\n",
       "</table>\n",
       "<p>503746 rows × 2 columns</p>\n",
       "</div>"
      ],
      "text/plain": [
       "        Tiempo       Fecha\n",
       "0        40000  1715382135\n",
       "1        40000  1715382136\n",
       "2        40000  1715382137\n",
       "3        40000  1715382138\n",
       "4        40000  1715382139\n",
       "...        ...         ...\n",
       "503741   40000  1724170992\n",
       "503742   40000  1724170993\n",
       "503743   40000  1724170994\n",
       "503744   40000  1724170995\n",
       "503745   40000  1724170996\n",
       "\n",
       "[503746 rows x 2 columns]"
      ]
     },
     "execution_count": 210,
     "metadata": {},
     "output_type": "execute_result"
    }
   ],
   "source": [
    "df=pd.DataFrame(data)\n",
    "df=df.rename(columns={'40000':'Tiempo','1715382134':'Fecha'})\n",
    "df"
   ]
  },
  {
   "cell_type": "code",
   "execution_count": null,
   "id": "3dabb7c8",
   "metadata": {},
   "outputs": [],
   "source": []
  },
  {
   "cell_type": "code",
   "execution_count": 211,
   "id": "b76da68b",
   "metadata": {},
   "outputs": [
    {
     "data": {
      "text/html": [
       "<div>\n",
       "<style scoped>\n",
       "    .dataframe tbody tr th:only-of-type {\n",
       "        vertical-align: middle;\n",
       "    }\n",
       "\n",
       "    .dataframe tbody tr th {\n",
       "        vertical-align: top;\n",
       "    }\n",
       "\n",
       "    .dataframe thead th {\n",
       "        text-align: right;\n",
       "    }\n",
       "</style>\n",
       "<table border=\"1\" class=\"dataframe\">\n",
       "  <thead>\n",
       "    <tr style=\"text-align: right;\">\n",
       "      <th></th>\n",
       "      <th>Tiempo</th>\n",
       "    </tr>\n",
       "  </thead>\n",
       "  <tbody>\n",
       "    <tr>\n",
       "      <th>954</th>\n",
       "      <td>2.74</td>\n",
       "    </tr>\n",
       "    <tr>\n",
       "      <th>970</th>\n",
       "      <td>1.24</td>\n",
       "    </tr>\n",
       "    <tr>\n",
       "      <th>987</th>\n",
       "      <td>3.06</td>\n",
       "    </tr>\n",
       "    <tr>\n",
       "      <th>1003</th>\n",
       "      <td>3.78</td>\n",
       "    </tr>\n",
       "    <tr>\n",
       "      <th>1006</th>\n",
       "      <td>15.70</td>\n",
       "    </tr>\n",
       "    <tr>\n",
       "      <th>...</th>\n",
       "      <td>...</td>\n",
       "    </tr>\n",
       "    <tr>\n",
       "      <th>503065</th>\n",
       "      <td>0.94</td>\n",
       "    </tr>\n",
       "    <tr>\n",
       "      <th>503071</th>\n",
       "      <td>0.06</td>\n",
       "    </tr>\n",
       "    <tr>\n",
       "      <th>503145</th>\n",
       "      <td>3.22</td>\n",
       "    </tr>\n",
       "    <tr>\n",
       "      <th>503194</th>\n",
       "      <td>0.10</td>\n",
       "    </tr>\n",
       "    <tr>\n",
       "      <th>503233</th>\n",
       "      <td>0.40</td>\n",
       "    </tr>\n",
       "  </tbody>\n",
       "</table>\n",
       "<p>16681 rows × 1 columns</p>\n",
       "</div>"
      ],
      "text/plain": [
       "        Tiempo\n",
       "954       2.74\n",
       "970       1.24\n",
       "987       3.06\n",
       "1003      3.78\n",
       "1006     15.70\n",
       "...        ...\n",
       "503065    0.94\n",
       "503071    0.06\n",
       "503145    3.22\n",
       "503194    0.10\n",
       "503233    0.40\n",
       "\n",
       "[16681 rows x 1 columns]"
      ]
     },
     "execution_count": 211,
     "metadata": {},
     "output_type": "execute_result"
    }
   ],
   "source": [
    "df1=df.drop('Fecha', axis=1)\n",
    "df1=df1[df1['Tiempo']<40000]*10**(-3)\n",
    "df1"
   ]
  },
  {
   "cell_type": "code",
   "execution_count": 212,
   "id": "d7c4e662",
   "metadata": {},
   "outputs": [],
   "source": [
    "filas=len(df1)"
   ]
  },
  {
   "cell_type": "code",
   "execution_count": 267,
   "id": "72226494",
   "metadata": {},
   "outputs": [
    {
     "data": {
      "text/html": [
       "<div>\n",
       "<style scoped>\n",
       "    .dataframe tbody tr th:only-of-type {\n",
       "        vertical-align: middle;\n",
       "    }\n",
       "\n",
       "    .dataframe tbody tr th {\n",
       "        vertical-align: top;\n",
       "    }\n",
       "\n",
       "    .dataframe thead th {\n",
       "        text-align: right;\n",
       "    }\n",
       "</style>\n",
       "<table border=\"1\" class=\"dataframe\">\n",
       "  <thead>\n",
       "    <tr style=\"text-align: right;\">\n",
       "      <th></th>\n",
       "      <th>Tiempo</th>\n",
       "      <th>Cantidad</th>\n",
       "      <th>Error Tiempo</th>\n",
       "      <th>Error decay</th>\n",
       "    </tr>\n",
       "  </thead>\n",
       "  <tbody>\n",
       "    <tr>\n",
       "      <th>0</th>\n",
       "      <td>0.04</td>\n",
       "      <td>28</td>\n",
       "      <td>0.01</td>\n",
       "      <td>0.1</td>\n",
       "    </tr>\n",
       "    <tr>\n",
       "      <th>1</th>\n",
       "      <td>0.06</td>\n",
       "      <td>734</td>\n",
       "      <td>0.01</td>\n",
       "      <td>0.1</td>\n",
       "    </tr>\n",
       "    <tr>\n",
       "      <th>2</th>\n",
       "      <td>0.08</td>\n",
       "      <td>48</td>\n",
       "      <td>0.01</td>\n",
       "      <td>0.1</td>\n",
       "    </tr>\n",
       "    <tr>\n",
       "      <th>3</th>\n",
       "      <td>0.10</td>\n",
       "      <td>103</td>\n",
       "      <td>0.01</td>\n",
       "      <td>0.1</td>\n",
       "    </tr>\n",
       "    <tr>\n",
       "      <th>4</th>\n",
       "      <td>0.12</td>\n",
       "      <td>73</td>\n",
       "      <td>0.01</td>\n",
       "      <td>0.1</td>\n",
       "    </tr>\n",
       "    <tr>\n",
       "      <th>...</th>\n",
       "      <td>...</td>\n",
       "      <td>...</td>\n",
       "      <td>...</td>\n",
       "      <td>...</td>\n",
       "    </tr>\n",
       "    <tr>\n",
       "      <th>732</th>\n",
       "      <td>19.82</td>\n",
       "      <td>1</td>\n",
       "      <td>0.01</td>\n",
       "      <td>0.1</td>\n",
       "    </tr>\n",
       "    <tr>\n",
       "      <th>733</th>\n",
       "      <td>19.84</td>\n",
       "      <td>1</td>\n",
       "      <td>0.01</td>\n",
       "      <td>0.1</td>\n",
       "    </tr>\n",
       "    <tr>\n",
       "      <th>734</th>\n",
       "      <td>19.88</td>\n",
       "      <td>1</td>\n",
       "      <td>0.01</td>\n",
       "      <td>0.1</td>\n",
       "    </tr>\n",
       "    <tr>\n",
       "      <th>735</th>\n",
       "      <td>19.90</td>\n",
       "      <td>1</td>\n",
       "      <td>0.01</td>\n",
       "      <td>0.1</td>\n",
       "    </tr>\n",
       "    <tr>\n",
       "      <th>736</th>\n",
       "      <td>19.96</td>\n",
       "      <td>1</td>\n",
       "      <td>0.01</td>\n",
       "      <td>0.1</td>\n",
       "    </tr>\n",
       "  </tbody>\n",
       "</table>\n",
       "<p>737 rows × 4 columns</p>\n",
       "</div>"
      ],
      "text/plain": [
       "     Tiempo  Cantidad  Error Tiempo  Error decay\n",
       "0      0.04        28          0.01          0.1\n",
       "1      0.06       734          0.01          0.1\n",
       "2      0.08        48          0.01          0.1\n",
       "3      0.10       103          0.01          0.1\n",
       "4      0.12        73          0.01          0.1\n",
       "..      ...       ...           ...          ...\n",
       "732   19.82         1          0.01          0.1\n",
       "733   19.84         1          0.01          0.1\n",
       "734   19.88         1          0.01          0.1\n",
       "735   19.90         1          0.01          0.1\n",
       "736   19.96         1          0.01          0.1\n",
       "\n",
       "[737 rows x 4 columns]"
      ]
     },
     "execution_count": 267,
     "metadata": {},
     "output_type": "execute_result"
    }
   ],
   "source": [
    "conteo_df = df1.groupby('Tiempo').size().reset_index(name='Cantidad')\n",
    "#conteo_df['Cantidad']=conteo_df['Cantidad'].max()-conteo_df['Cantidad']\n",
    "conteo_df['Error Tiempo']=0.01\n",
    "conteo_df['Error decay']=0.1\n",
    "conteo_df"
   ]
  },
  {
   "cell_type": "code",
   "execution_count": 268,
   "id": "f8b7e1cf",
   "metadata": {},
   "outputs": [],
   "source": [
    "Time,Cantidad=np.array(conteo_df['Tiempo']), np.array(conteo_df['Cantidad'])"
   ]
  },
  {
   "cell_type": "code",
   "execution_count": 269,
   "id": "8505f8f6",
   "metadata": {},
   "outputs": [],
   "source": [
    "#plt.scatter(conteo_df['Cantidad'],conteo_df['Tiempo'], s=1)"
   ]
  },
  {
   "cell_type": "code",
   "execution_count": 270,
   "id": "1560485c",
   "metadata": {},
   "outputs": [],
   "source": [
    "Ter, Der=np.array(conteo_df['Error Tiempo']),np.array(conteo_df['Error decay'])"
   ]
  },
  {
   "cell_type": "code",
   "execution_count": 271,
   "id": "6a118432",
   "metadata": {},
   "outputs": [],
   "source": [
    "f_cum=np.cumsum(Cantidad)"
   ]
  },
  {
   "cell_type": "code",
   "execution_count": 272,
   "id": "06c87018",
   "metadata": {},
   "outputs": [],
   "source": [
    "decay=filas-f_cum\n",
    "decay[-1]=1/10000000"
   ]
  },
  {
   "cell_type": "code",
   "execution_count": null,
   "id": "ca66df6e",
   "metadata": {},
   "outputs": [],
   "source": []
  },
  {
   "cell_type": "code",
   "execution_count": 273,
   "id": "14966f97",
   "metadata": {},
   "outputs": [
    {
     "data": {
      "text/plain": [
       "Text(0, 0.5, 'Frecuencia')"
      ]
     },
     "execution_count": 273,
     "metadata": {},
     "output_type": "execute_result"
    },
    {
     "data": {
      "image/png": "[encoded data removed]",
      "text/plain": [
       "<Figure size 640x480 with 1 Axes>"
      ]
     },
     "metadata": {},
     "output_type": "display_data"
    }
   ],
   "source": [
    "plt.scatter(Time, decay, s=1)\n",
    "plt.xlabel('Muon Decay Time (µs)')\n",
    "plt.ylabel('Frecuencia')"
   ]
  },
  {
   "cell_type": "code",
   "execution_count": 274,
   "id": "8b52b6d7",
   "metadata": {},
   "outputs": [],
   "source": [
    "#def expo(x,a,b):\n",
    " #   return a*np.exp(-x/b)"
   ]
  },
  {
   "cell_type": "code",
   "execution_count": 275,
   "id": "25ae012d",
   "metadata": {},
   "outputs": [
    {
     "name": "stderr",
     "output_type": "stream",
     "text": [
      "C:\\Users\\Personal\\AppData\\Local\\Temp\\ipykernel_28856\\3852769991.py:1: RuntimeWarning: overflow encountered in exp\n",
      "  param, cov= scipy.optimize.curve_fit(lambda t,a,b: a*np.exp(-t*b),  Time,decay)\n",
      "C:\\Users\\Personal\\AppData\\Local\\Temp\\ipykernel_28856\\3852769991.py:1: RuntimeWarning: overflow encountered in multiply\n",
      "  param, cov= scipy.optimize.curve_fit(lambda t,a,b: a*np.exp(-t*b),  Time,decay)\n"
     ]
    }
   ],
   "source": [
    "param, cov= scipy.optimize.curve_fit(lambda t,a,b: a*np.exp(-t*b),  Time,decay)\n",
    "incert =np.sqrt(np.diag(cov))"
   ]
  },
  {
   "cell_type": "code",
   "execution_count": 276,
   "id": "d3358f32",
   "metadata": {},
   "outputs": [
    {
     "data": {
      "text/plain": [
       "(array([1.54697923e+04, 4.59268817e-01]),\n",
       " array([1.13393435e+02, 4.70958188e-03]))"
      ]
     },
     "execution_count": 276,
     "metadata": {},
     "output_type": "execute_result"
    }
   ],
   "source": [
    "param, incert"
   ]
  },
  {
   "cell_type": "code",
   "execution_count": 277,
   "id": "a37a1e00",
   "metadata": {},
   "outputs": [
    {
     "data": {
      "text/plain": [
       "2.1773740421228576"
      ]
     },
     "execution_count": 277,
     "metadata": {},
     "output_type": "execute_result"
    }
   ],
   "source": [
    "1/param[1]"
   ]
  },
  {
   "cell_type": "code",
   "execution_count": 278,
   "id": "a93fabb6",
   "metadata": {},
   "outputs": [
    {
     "data": {
      "text/plain": [
       "array([1.54697923e+04, 1.54555879e+04, 1.54413964e+04, ...,\n",
       "       1.58900088e+00, 1.58754185e+00, 1.58608416e+00])"
      ]
     },
     "execution_count": 278,
     "metadata": {},
     "output_type": "execute_result"
    }
   ],
   "source": [
    "x=np.linspace(0,20,10000)\n",
    "#y=expo(x,param[0], param[1])\n",
    "y=param[0]*np.exp(-x*param[1])\n",
    "y"
   ]
  },
  {
   "cell_type": "code",
   "execution_count": 279,
   "id": "8d973c77",
   "metadata": {},
   "outputs": [
    {
     "data": {
      "text/plain": [
       "Text(0.5, 1.0, 'Frecuencia vs. Tiempo (regresión)')"
      ]
     },
     "execution_count": 279,
     "metadata": {},
     "output_type": "execute_result"
    },
    {
     "data": {
      "image/png": "[encoded data removed]",
      "text/plain": [
       "<Figure size 640x480 with 1 Axes>"
      ]
     },
     "metadata": {},
     "output_type": "display_data"
    }
   ],
   "source": [
    "plt.plot(x,y,color='red')\n",
    "plt.scatter(Time, decay, s=5)\n",
    "plt.xlabel('Muon Decay Time (µs)')\n",
    "plt.ylabel('Frecuencia')\n",
    "plt.title('Frecuencia vs. Tiempo (regresión)')"
   ]
  },
  {
   "cell_type": "code",
   "execution_count": 280,
   "id": "fbf2d411",
   "metadata": {},
   "outputs": [
    {
     "data": {
      "text/plain": [
       "Text(0.5, 1.0, 'Frecuencia vs. Tiempo (regresión e incertidumbres)')"
      ]
     },
     "execution_count": 280,
     "metadata": {},
     "output_type": "execute_result"
    },
    {
     "data": {
      "image/png": "[encoded data removed]",
      "text/plain": [
       "<Figure size 640x480 with 1 Axes>"
      ]
     },
     "metadata": {},
     "output_type": "display_data"
    }
   ],
   "source": [
    "plt.plot(x,y,color='red')\n",
    "plt.scatter(Time, decay, s=5)\n",
    "plt.errorbar(Time, decay,Ter,Der,fmt='o')\n",
    "plt.xlabel('Muon Decay Time (µs)')\n",
    "plt.ylabel('Frecuencia')\n",
    "plt.title('Frecuencia vs. Tiempo (regresión e incertidumbres)')"
   ]
  },
  {
   "cell_type": "code",
   "execution_count": 281,
   "id": "388435d2",
   "metadata": {},
   "outputs": [
    {
     "data": {
      "text/plain": [
       "array([1.00000000e+00, 9.95654286e-01, 9.91327458e-01, ...,\n",
       "       1.23410535e-19, 1.22874228e-19, 1.22340252e-19])"
      ]
     },
     "execution_count": 281,
     "metadata": {},
     "output_type": "execute_result"
    }
   ],
   "source": [
    "np.exp(-x/param[1])"
   ]
  },
  {
   "cell_type": "code",
   "execution_count": 282,
   "id": "06f0793d",
   "metadata": {},
   "outputs": [],
   "source": [
    "y_fit=param[0]*np.exp(-Time*param[1])"
   ]
  },
  {
   "cell_type": "code",
   "execution_count": 283,
   "id": "e6dff1f8",
   "metadata": {},
   "outputs": [],
   "source": [
    "residual=(decay-y_fit)"
   ]
  },
  {
   "cell_type": "code",
   "execution_count": 284,
   "id": "cbc00cb4",
   "metadata": {},
   "outputs": [
    {
     "data": {
      "text/plain": [
       "<matplotlib.lines.Line2D at 0x1ca9b512350>"
      ]
     },
     "execution_count": 284,
     "metadata": {},
     "output_type": "execute_result"
    },
    {
     "data": {
      "image/png": "[encoded data removed]",
      "text/plain": [
       "<Figure size 640x480 with 1 Axes>"
      ]
     },
     "metadata": {},
     "output_type": "display_data"
    }
   ],
   "source": [
    "fig, ax = plt.subplots()\n",
    "ax.set_title('Residuales primera toma de datos')\n",
    "ax.scatter(Time,residual, s=1)\n",
    "ax.set_xlabel('Muon Decay Time (µs)')\n",
    "ax.set_ylabel('Residuales')\n",
    "ax.axhline(0, color='black', linewidth=1, linestyle='--')"
   ]
  },
  {
   "cell_type": "code",
   "execution_count": null,
   "id": "c7096bcd",
   "metadata": {},
   "outputs": [],
   "source": []
  }
 ],
 "metadata": {
  "kernelspec": {
   "display_name": "Python 3 (ipykernel)",
   "language": "python",
   "name": "python3"
  },
  "language_info": {
   "codemirror_mode": {
    "name": "ipython",
    "version": 3
   },
   "file_extension": ".py",
   "mimetype": "text/x-python",
   "name": "python",
   "nbconvert_exporter": "python",
   "pygments_lexer": "ipython3",
   "version": "3.11.5"
  }
 },
 "nbformat": 4,
 "nbformat_minor": 5
}

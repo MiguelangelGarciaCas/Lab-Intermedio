{
 "cells": [
  {
   "cell_type": "code",
   "execution_count": 2,
   "id": "f27377c8",
   "metadata": {},
   "outputs": [
    {
     "name": "stdout",
     "output_type": "stream",
     "text": [
      "        40000  1724454158\n",
      "0       40000  1724454159\n",
      "1       40009  1724454160\n",
      "2       40004  1724454161\n",
      "3       40002  1724454162\n",
      "4       40006  1724454163\n",
      "...       ...         ...\n",
      "329866  40000  1724776017\n",
      "329867  40000  1724776018\n",
      "329868  40000  1724776019\n",
      "329869  40000  1724776020\n",
      "329870  40000  1724776021\n",
      "\n",
      "[329871 rows x 2 columns]\n"
     ]
    }
   ],
   "source": [
    "import numpy as np\n",
    "import pandas as pd\n",
    "import matplotlib.pyplot as plt\n",
    "import scipy\n",
    "from scipy.optimize import curve_fit\n",
    "\n",
    "data = \"C:/Programación/Lab Intermedio/Muones/muon2.data\"\n",
    "data = pd.read_csv(data, delimiter=' ')\n",
    "\n",
    "print(data)"
   ]
  },
  {
   "cell_type": "code",
   "execution_count": 3,
   "id": "929cb299",
   "metadata": {},
   "outputs": [
    {
     "data": {
      "text/html": [
       "<div>\n",
       "<style scoped>\n",
       "    .dataframe tbody tr th:only-of-type {\n",
       "        vertical-align: middle;\n",
       "    }\n",
       "\n",
       "    .dataframe tbody tr th {\n",
       "        vertical-align: top;\n",
       "    }\n",
       "\n",
       "    .dataframe thead th {\n",
       "        text-align: right;\n",
       "    }\n",
       "</style>\n",
       "<table border=\"1\" class=\"dataframe\">\n",
       "  <thead>\n",
       "    <tr style=\"text-align: right;\">\n",
       "      <th></th>\n",
       "      <th>Tiempo</th>\n",
       "      <th>Fecha</th>\n",
       "    </tr>\n",
       "  </thead>\n",
       "  <tbody>\n",
       "    <tr>\n",
       "      <th>0</th>\n",
       "      <td>40000</td>\n",
       "      <td>1724454159</td>\n",
       "    </tr>\n",
       "    <tr>\n",
       "      <th>1</th>\n",
       "      <td>40009</td>\n",
       "      <td>1724454160</td>\n",
       "    </tr>\n",
       "    <tr>\n",
       "      <th>2</th>\n",
       "      <td>40004</td>\n",
       "      <td>1724454161</td>\n",
       "    </tr>\n",
       "    <tr>\n",
       "      <th>3</th>\n",
       "      <td>40002</td>\n",
       "      <td>1724454162</td>\n",
       "    </tr>\n",
       "    <tr>\n",
       "      <th>4</th>\n",
       "      <td>40006</td>\n",
       "      <td>1724454163</td>\n",
       "    </tr>\n",
       "    <tr>\n",
       "      <th>...</th>\n",
       "      <td>...</td>\n",
       "      <td>...</td>\n",
       "    </tr>\n",
       "    <tr>\n",
       "      <th>329866</th>\n",
       "      <td>40000</td>\n",
       "      <td>1724776017</td>\n",
       "    </tr>\n",
       "    <tr>\n",
       "      <th>329867</th>\n",
       "      <td>40000</td>\n",
       "      <td>1724776018</td>\n",
       "    </tr>\n",
       "    <tr>\n",
       "      <th>329868</th>\n",
       "      <td>40000</td>\n",
       "      <td>1724776019</td>\n",
       "    </tr>\n",
       "    <tr>\n",
       "      <th>329869</th>\n",
       "      <td>40000</td>\n",
       "      <td>1724776020</td>\n",
       "    </tr>\n",
       "    <tr>\n",
       "      <th>329870</th>\n",
       "      <td>40000</td>\n",
       "      <td>1724776021</td>\n",
       "    </tr>\n",
       "  </tbody>\n",
       "</table>\n",
       "<p>329871 rows × 2 columns</p>\n",
       "</div>"
      ],
      "text/plain": [
       "        Tiempo       Fecha\n",
       "0        40000  1724454159\n",
       "1        40009  1724454160\n",
       "2        40004  1724454161\n",
       "3        40002  1724454162\n",
       "4        40006  1724454163\n",
       "...        ...         ...\n",
       "329866   40000  1724776017\n",
       "329867   40000  1724776018\n",
       "329868   40000  1724776019\n",
       "329869   40000  1724776020\n",
       "329870   40000  1724776021\n",
       "\n",
       "[329871 rows x 2 columns]"
      ]
     },
     "execution_count": 3,
     "metadata": {},
     "output_type": "execute_result"
    }
   ],
   "source": [
    "df=pd.DataFrame(data)\n",
    "df=df.rename(columns={'40000':'Tiempo','1724454158':'Fecha'})\n",
    "df"
   ]
  },
  {
   "cell_type": "code",
   "execution_count": null,
   "id": "29ecebbe",
   "metadata": {},
   "outputs": [],
   "source": []
  },
  {
   "cell_type": "code",
   "execution_count": 4,
   "id": "b76da68b",
   "metadata": {},
   "outputs": [
    {
     "data": {
      "text/html": [
       "<div>\n",
       "<style scoped>\n",
       "    .dataframe tbody tr th:only-of-type {\n",
       "        vertical-align: middle;\n",
       "    }\n",
       "\n",
       "    .dataframe tbody tr th {\n",
       "        vertical-align: top;\n",
       "    }\n",
       "\n",
       "    .dataframe thead th {\n",
       "        text-align: right;\n",
       "    }\n",
       "</style>\n",
       "<table border=\"1\" class=\"dataframe\">\n",
       "  <thead>\n",
       "    <tr style=\"text-align: right;\">\n",
       "      <th></th>\n",
       "      <th>Tiempo</th>\n",
       "    </tr>\n",
       "  </thead>\n",
       "  <tbody>\n",
       "    <tr>\n",
       "      <th>67</th>\n",
       "      <td>0.32</td>\n",
       "    </tr>\n",
       "    <tr>\n",
       "      <th>70</th>\n",
       "      <td>0.32</td>\n",
       "    </tr>\n",
       "    <tr>\n",
       "      <th>93</th>\n",
       "      <td>4.68</td>\n",
       "    </tr>\n",
       "    <tr>\n",
       "      <th>118</th>\n",
       "      <td>3.66</td>\n",
       "    </tr>\n",
       "    <tr>\n",
       "      <th>137</th>\n",
       "      <td>1.72</td>\n",
       "    </tr>\n",
       "    <tr>\n",
       "      <th>...</th>\n",
       "      <td>...</td>\n",
       "    </tr>\n",
       "    <tr>\n",
       "      <th>329657</th>\n",
       "      <td>0.90</td>\n",
       "    </tr>\n",
       "    <tr>\n",
       "      <th>329675</th>\n",
       "      <td>5.98</td>\n",
       "    </tr>\n",
       "    <tr>\n",
       "      <th>329689</th>\n",
       "      <td>0.80</td>\n",
       "    </tr>\n",
       "    <tr>\n",
       "      <th>329714</th>\n",
       "      <td>0.50</td>\n",
       "    </tr>\n",
       "    <tr>\n",
       "      <th>329765</th>\n",
       "      <td>2.16</td>\n",
       "    </tr>\n",
       "  </tbody>\n",
       "</table>\n",
       "<p>8805 rows × 1 columns</p>\n",
       "</div>"
      ],
      "text/plain": [
       "        Tiempo\n",
       "67        0.32\n",
       "70        0.32\n",
       "93        4.68\n",
       "118       3.66\n",
       "137       1.72\n",
       "...        ...\n",
       "329657    0.90\n",
       "329675    5.98\n",
       "329689    0.80\n",
       "329714    0.50\n",
       "329765    2.16\n",
       "\n",
       "[8805 rows x 1 columns]"
      ]
     },
     "execution_count": 4,
     "metadata": {},
     "output_type": "execute_result"
    }
   ],
   "source": [
    "df1=df.drop('Fecha', axis=1)\n",
    "df1=df1[df1['Tiempo']<40000]*10**(-3)\n",
    "df1"
   ]
  },
  {
   "cell_type": "code",
   "execution_count": 5,
   "id": "d7c4e662",
   "metadata": {},
   "outputs": [],
   "source": [
    "filas=len(df1)"
   ]
  },
  {
   "cell_type": "code",
   "execution_count": 105,
   "id": "72226494",
   "metadata": {},
   "outputs": [
    {
     "data": {
      "text/html": [
       "<div>\n",
       "<style scoped>\n",
       "    .dataframe tbody tr th:only-of-type {\n",
       "        vertical-align: middle;\n",
       "    }\n",
       "\n",
       "    .dataframe tbody tr th {\n",
       "        vertical-align: top;\n",
       "    }\n",
       "\n",
       "    .dataframe thead th {\n",
       "        text-align: right;\n",
       "    }\n",
       "</style>\n",
       "<table border=\"1\" class=\"dataframe\">\n",
       "  <thead>\n",
       "    <tr style=\"text-align: right;\">\n",
       "      <th></th>\n",
       "      <th>Tiempo</th>\n",
       "      <th>Cantidad</th>\n",
       "      <th>Error Tiempo</th>\n",
       "      <th>Error decay</th>\n",
       "    </tr>\n",
       "  </thead>\n",
       "  <tbody>\n",
       "    <tr>\n",
       "      <th>0</th>\n",
       "      <td>0.04</td>\n",
       "      <td>1</td>\n",
       "      <td>0.01</td>\n",
       "      <td>0.1</td>\n",
       "    </tr>\n",
       "    <tr>\n",
       "      <th>1</th>\n",
       "      <td>0.06</td>\n",
       "      <td>13</td>\n",
       "      <td>0.01</td>\n",
       "      <td>0.1</td>\n",
       "    </tr>\n",
       "    <tr>\n",
       "      <th>2</th>\n",
       "      <td>0.08</td>\n",
       "      <td>47</td>\n",
       "      <td>0.01</td>\n",
       "      <td>0.1</td>\n",
       "    </tr>\n",
       "    <tr>\n",
       "      <th>3</th>\n",
       "      <td>0.10</td>\n",
       "      <td>81</td>\n",
       "      <td>0.01</td>\n",
       "      <td>0.1</td>\n",
       "    </tr>\n",
       "    <tr>\n",
       "      <th>4</th>\n",
       "      <td>0.12</td>\n",
       "      <td>102</td>\n",
       "      <td>0.01</td>\n",
       "      <td>0.1</td>\n",
       "    </tr>\n",
       "    <tr>\n",
       "      <th>...</th>\n",
       "      <td>...</td>\n",
       "      <td>...</td>\n",
       "      <td>...</td>\n",
       "      <td>...</td>\n",
       "    </tr>\n",
       "    <tr>\n",
       "      <th>603</th>\n",
       "      <td>19.30</td>\n",
       "      <td>1</td>\n",
       "      <td>0.01</td>\n",
       "      <td>0.1</td>\n",
       "    </tr>\n",
       "    <tr>\n",
       "      <th>604</th>\n",
       "      <td>19.38</td>\n",
       "      <td>1</td>\n",
       "      <td>0.01</td>\n",
       "      <td>0.1</td>\n",
       "    </tr>\n",
       "    <tr>\n",
       "      <th>605</th>\n",
       "      <td>19.42</td>\n",
       "      <td>1</td>\n",
       "      <td>0.01</td>\n",
       "      <td>0.1</td>\n",
       "    </tr>\n",
       "    <tr>\n",
       "      <th>606</th>\n",
       "      <td>19.54</td>\n",
       "      <td>1</td>\n",
       "      <td>0.01</td>\n",
       "      <td>0.1</td>\n",
       "    </tr>\n",
       "    <tr>\n",
       "      <th>607</th>\n",
       "      <td>19.74</td>\n",
       "      <td>1</td>\n",
       "      <td>0.01</td>\n",
       "      <td>0.1</td>\n",
       "    </tr>\n",
       "  </tbody>\n",
       "</table>\n",
       "<p>608 rows × 4 columns</p>\n",
       "</div>"
      ],
      "text/plain": [
       "     Tiempo  Cantidad  Error Tiempo  Error decay\n",
       "0      0.04         1          0.01          0.1\n",
       "1      0.06        13          0.01          0.1\n",
       "2      0.08        47          0.01          0.1\n",
       "3      0.10        81          0.01          0.1\n",
       "4      0.12       102          0.01          0.1\n",
       "..      ...       ...           ...          ...\n",
       "603   19.30         1          0.01          0.1\n",
       "604   19.38         1          0.01          0.1\n",
       "605   19.42         1          0.01          0.1\n",
       "606   19.54         1          0.01          0.1\n",
       "607   19.74         1          0.01          0.1\n",
       "\n",
       "[608 rows x 4 columns]"
      ]
     },
     "execution_count": 105,
     "metadata": {},
     "output_type": "execute_result"
    }
   ],
   "source": [
    "conteo_df = df1.groupby('Tiempo').size().reset_index(name='Cantidad')\n",
    "#conteo_df=df1.groupby('error-Tiempo').size().reset_index(name='Cantidad')\n",
    "conteo_df['Error Tiempo']=0.01\n",
    "conteo_df['Error decay']=0.1\n",
    "conteo_df"
   ]
  },
  {
   "cell_type": "code",
   "execution_count": 106,
   "id": "f8b7e1cf",
   "metadata": {},
   "outputs": [],
   "source": [
    "Time,Cantidad=np.array(conteo_df['Tiempo']), np.array(conteo_df['Cantidad'])"
   ]
  },
  {
   "cell_type": "code",
   "execution_count": 107,
   "id": "8505f8f6",
   "metadata": {},
   "outputs": [],
   "source": [
    "#plt.scatter(conteo_df['Cantidad'],conteo_df['Tiempo'], s=1)"
   ]
  },
  {
   "cell_type": "code",
   "execution_count": 108,
   "id": "28a68664",
   "metadata": {},
   "outputs": [],
   "source": [
    "Ter, Der=np.array(conteo_df['Error Tiempo']),np.array(conteo_df['Error decay'])"
   ]
  },
  {
   "cell_type": "code",
   "execution_count": 109,
   "id": "6a118432",
   "metadata": {},
   "outputs": [],
   "source": [
    "f_cum=np.cumsum(Cantidad)"
   ]
  },
  {
   "cell_type": "code",
   "execution_count": 110,
   "id": "06c87018",
   "metadata": {},
   "outputs": [],
   "source": [
    "decay=filas-f_cum\n",
    "#decay[-1]=1/10000000"
   ]
  },
  {
   "cell_type": "code",
   "execution_count": null,
   "id": "ca66df6e",
   "metadata": {},
   "outputs": [],
   "source": []
  },
  {
   "cell_type": "code",
   "execution_count": 111,
   "id": "14966f97",
   "metadata": {},
   "outputs": [
    {
     "data": {
      "text/plain": [
       "Text(0, 0.5, 'Frecuencia')"
      ]
     },
     "execution_count": 111,
     "metadata": {},
     "output_type": "execute_result"
    },
    {
     "data": {
      "image/png": "[encoded data removed]",
      "text/plain": [
       "<Figure size 640x480 with 1 Axes>"
      ]
     },
     "metadata": {},
     "output_type": "display_data"
    }
   ],
   "source": [
    "plt.scatter(Time, decay, s=1)\n",
    "plt.xlabel('Muon Decay Time (µs)')\n",
    "plt.ylabel('Frecuencia')\n",
    "plt.title('Frecuencia vs. Tiempo (regresión e incertidumbres)')"
   ]
  },
  {
   "cell_type": "code",
   "execution_count": 112,
   "id": "8b52b6d7",
   "metadata": {},
   "outputs": [],
   "source": [
    "#def expo(x,a,b):\n",
    " #   return a*np.exp(-x/b)"
   ]
  },
  {
   "cell_type": "code",
   "execution_count": 113,
   "id": "25ae012d",
   "metadata": {},
   "outputs": [],
   "source": [
    "param, cov= scipy.optimize.curve_fit(lambda t,a,b: a*np.exp(-t/b), Time,decay)\n",
    "incert =np.sqrt(np.diag(cov))"
   ]
  },
  {
   "cell_type": "code",
   "execution_count": 114,
   "id": "d3358f32",
   "metadata": {},
   "outputs": [
    {
     "data": {
      "text/plain": [
       "(array([8.96652586e+03, 2.19309392e+00]),\n",
       " array([9.85799606e+00, 3.38230968e-03]))"
      ]
     },
     "execution_count": 114,
     "metadata": {},
     "output_type": "execute_result"
    }
   ],
   "source": [
    "param, incert"
   ]
  },
  {
   "cell_type": "code",
   "execution_count": 115,
   "id": "3c6cc1b2",
   "metadata": {},
   "outputs": [
    {
     "data": {
      "text/plain": [
       "2.1930939226028237"
      ]
     },
     "execution_count": 115,
     "metadata": {},
     "output_type": "execute_result"
    }
   ],
   "source": [
    "param[1]"
   ]
  },
  {
   "cell_type": "code",
   "execution_count": 116,
   "id": "a93fabb6",
   "metadata": {},
   "outputs": [
    {
     "data": {
      "text/plain": [
       "array([8.96652586e+03, 8.83282015e+03, 8.70110821e+03, 8.57136032e+03,\n",
       "       8.44354718e+03, 8.31763994e+03, 8.19361019e+03, 8.07142993e+03,\n",
       "       7.95107158e+03, 7.83250797e+03, 7.71571234e+03, 7.60065833e+03,\n",
       "       7.48731996e+03, 7.37567165e+03, 7.26568821e+03, 7.15734479e+03,\n",
       "       7.05061696e+03, 6.94548062e+03, 6.84191203e+03, 6.73988782e+03,\n",
       "       6.63938496e+03, 6.54038077e+03, 6.44285289e+03, 6.34677931e+03,\n",
       "       6.25213835e+03, 6.15890864e+03, 6.06706914e+03, 5.97659912e+03,\n",
       "       5.88747815e+03, 5.79968613e+03, 5.71320323e+03, 5.62800994e+03,\n",
       "       5.54408701e+03, 5.46141552e+03, 5.37997679e+03, 5.29975245e+03,\n",
       "       5.22072439e+03, 5.14287477e+03, 5.06618601e+03, 4.99064081e+03,\n",
       "       4.91622211e+03, 4.84291312e+03, 4.77069729e+03, 4.69955831e+03,\n",
       "       4.62948013e+03, 4.56044694e+03, 4.49244314e+03, 4.42545340e+03,\n",
       "       4.35946258e+03, 4.29445579e+03, 4.23041836e+03, 4.16733584e+03,\n",
       "       4.10519398e+03, 4.04397875e+03, 3.98367635e+03, 3.92427316e+03,\n",
       "       3.86575576e+03, 3.80811096e+03, 3.75132574e+03, 3.69538727e+03,\n",
       "       3.64028295e+03, 3.58600032e+03, 3.53252713e+03, 3.47985131e+03,\n",
       "       3.42796098e+03, 3.37684442e+03, 3.32649010e+03, 3.27688663e+03,\n",
       "       3.22802284e+03, 3.17988769e+03, 3.13247031e+03, 3.08576001e+03,\n",
       "       3.03974623e+03, 2.99441859e+03, 2.94976687e+03, 2.90578097e+03,\n",
       "       2.86245098e+03, 2.81976710e+03, 2.77771972e+03, 2.73629933e+03,\n",
       "       2.69549659e+03, 2.65530228e+03, 2.61570734e+03, 2.57670282e+03,\n",
       "       2.53827993e+03, 2.50042998e+03, 2.46314444e+03, 2.42641489e+03,\n",
       "       2.39023304e+03, 2.35459071e+03, 2.31947988e+03, 2.28489260e+03,\n",
       "       2.25082108e+03, 2.21725762e+03, 2.18419465e+03, 2.15162470e+03,\n",
       "       2.11954042e+03, 2.08793457e+03, 2.05680002e+03, 2.02612973e+03,\n",
       "       1.99591679e+03, 1.96615438e+03, 1.93683577e+03, 1.90795435e+03,\n",
       "       1.87950360e+03, 1.85147709e+03, 1.82386851e+03, 1.79667162e+03,\n",
       "       1.76988028e+03, 1.74348844e+03, 1.71749015e+03, 1.69187953e+03,\n",
       "       1.66665081e+03, 1.64179830e+03, 1.61731637e+03, 1.59319952e+03,\n",
       "       1.56944228e+03, 1.54603930e+03, 1.52298530e+03, 1.50027508e+03,\n",
       "       1.47790350e+03, 1.45586552e+03, 1.43415616e+03, 1.41277052e+03,\n",
       "       1.39170378e+03, 1.37095118e+03, 1.35050803e+03, 1.33036972e+03,\n",
       "       1.31053171e+03, 1.29098952e+03, 1.27173874e+03, 1.25277501e+03,\n",
       "       1.23409407e+03, 1.21569169e+03, 1.19756371e+03, 1.17970606e+03,\n",
       "       1.16211470e+03, 1.14478565e+03, 1.12771500e+03, 1.11089891e+03,\n",
       "       1.09433357e+03, 1.07801525e+03, 1.06194026e+03, 1.04610498e+03,\n",
       "       1.03050583e+03, 1.01513928e+03, 1.00000188e+03, 9.85090199e+02,\n",
       "       9.70400877e+02, 9.55930598e+02, 9.41676094e+02, 9.27634148e+02,\n",
       "       9.13801590e+02, 9.00175299e+02, 8.86752199e+02, 8.73529259e+02,\n",
       "       8.60503495e+02, 8.47671967e+02, 8.35031778e+02, 8.22580075e+02,\n",
       "       8.10314047e+02, 7.98230926e+02, 7.86327985e+02, 7.74602536e+02,\n",
       "       7.63051933e+02, 7.51673568e+02, 7.40464874e+02, 7.29423320e+02,\n",
       "       7.18546413e+02, 7.07831699e+02, 6.97276760e+02, 6.86879212e+02,\n",
       "       6.76636708e+02, 6.66546937e+02, 6.56607621e+02, 6.46816517e+02,\n",
       "       6.37171415e+02, 6.27670137e+02, 6.18310538e+02, 6.09090507e+02,\n",
       "       6.00007961e+02, 5.91060852e+02, 5.82247158e+02, 5.73564891e+02,\n",
       "       5.65012092e+02, 5.56586828e+02, 5.48287199e+02, 5.40111332e+02,\n",
       "       5.32057380e+02, 5.24123525e+02, 5.16307978e+02, 5.08608973e+02,\n",
       "       5.01024773e+02, 4.93553666e+02, 4.86193966e+02, 4.78944011e+02,\n",
       "       4.71802165e+02, 4.64766815e+02, 4.57836374e+02, 4.51009278e+02,\n",
       "       4.44283985e+02, 4.37658977e+02, 4.31132759e+02, 4.24703857e+02,\n",
       "       4.18370821e+02, 4.12132221e+02, 4.05986649e+02, 3.99932718e+02,\n",
       "       3.93969060e+02, 3.88094331e+02, 3.82307203e+02, 3.76606372e+02,\n",
       "       3.70990549e+02, 3.65458467e+02, 3.60008877e+02, 3.54640550e+02,\n",
       "       3.49352274e+02, 3.44142855e+02, 3.39011116e+02, 3.33955901e+02,\n",
       "       3.28976067e+02, 3.24070490e+02, 3.19238064e+02, 3.14477697e+02,\n",
       "       3.09788315e+02, 3.05168860e+02, 3.00618288e+02, 2.96135573e+02,\n",
       "       2.91719702e+02, 2.87369680e+02, 2.83084523e+02, 2.78863265e+02,\n",
       "       2.74704954e+02, 2.70608649e+02, 2.66573427e+02, 2.62598377e+02,\n",
       "       2.58682602e+02, 2.54825217e+02, 2.51025352e+02, 2.47282149e+02,\n",
       "       2.43594764e+02, 2.39962364e+02, 2.36384129e+02, 2.32859251e+02,\n",
       "       2.29386935e+02, 2.25966397e+02, 2.22596865e+02, 2.19277578e+02,\n",
       "       2.16007787e+02, 2.12786754e+02, 2.09613752e+02, 2.06488065e+02,\n",
       "       2.03408987e+02, 2.00375823e+02, 1.97387888e+02, 1.94444509e+02,\n",
       "       1.91545020e+02, 1.88688767e+02, 1.85875106e+02, 1.83103401e+02,\n",
       "       1.80373027e+02, 1.77683368e+02, 1.75033815e+02, 1.72423772e+02,\n",
       "       1.69852649e+02, 1.67319865e+02, 1.64824850e+02, 1.62367039e+02,\n",
       "       1.59945878e+02, 1.57560821e+02, 1.55211329e+02, 1.52896872e+02,\n",
       "       1.50616927e+02, 1.48370979e+02, 1.46158523e+02, 1.43979058e+02,\n",
       "       1.41832093e+02, 1.39717142e+02, 1.37633729e+02, 1.35581382e+02,\n",
       "       1.33559640e+02, 1.31568045e+02, 1.29606148e+02, 1.27673507e+02,\n",
       "       1.25769684e+02, 1.23894250e+02, 1.22046782e+02, 1.20226863e+02,\n",
       "       1.18434082e+02, 1.16668034e+02, 1.14928321e+02, 1.13214550e+02,\n",
       "       1.11526334e+02, 1.09863292e+02, 1.08225049e+02, 1.06611235e+02,\n",
       "       1.05021485e+02, 1.03455441e+02, 1.01912750e+02, 1.00393063e+02,\n",
       "       9.88960361e+01, 9.74213329e+01, 9.59686199e+01, 9.45375693e+01,\n",
       "       9.31278580e+01, 9.17391678e+01, 9.03711853e+01, 8.90236017e+01,\n",
       "       8.76961127e+01, 8.63884189e+01, 8.51002249e+01, 8.38312400e+01,\n",
       "       8.25811777e+01, 8.13497560e+01, 8.01366967e+01, 7.89417262e+01,\n",
       "       7.77645747e+01, 7.66049765e+01, 7.54626697e+01, 7.43373967e+01,\n",
       "       7.32289033e+01, 7.21369394e+01, 7.10612585e+01, 7.00016178e+01,\n",
       "       6.89577781e+01, 6.79295037e+01, 6.69165626e+01, 6.59187261e+01,\n",
       "       6.49357691e+01, 6.39674695e+01, 6.30136089e+01, 6.20739719e+01,\n",
       "       6.11483464e+01, 6.02365236e+01, 5.93382975e+01, 5.84534655e+01,\n",
       "       5.75818278e+01, 5.67231877e+01, 5.58773512e+01, 5.50441276e+01,\n",
       "       5.42233288e+01, 5.34147694e+01, 5.26182670e+01, 5.18336417e+01,\n",
       "       5.10607165e+01, 5.02993169e+01, 4.95492710e+01, 4.88104095e+01,\n",
       "       4.80825657e+01, 4.73655752e+01, 4.66592763e+01, 4.59635094e+01,\n",
       "       4.52781176e+01, 4.46029460e+01, 4.39378425e+01, 4.32826567e+01,\n",
       "       4.26372408e+01, 4.20014491e+01, 4.13751381e+01, 4.07581665e+01,\n",
       "       4.01503949e+01, 3.95516862e+01, 3.89619052e+01, 3.83809189e+01,\n",
       "       3.78085960e+01, 3.72448074e+01, 3.66894258e+01, 3.61423258e+01,\n",
       "       3.56033841e+01, 3.50724788e+01, 3.45494902e+01, 3.40343002e+01,\n",
       "       3.35267926e+01, 3.30268528e+01, 3.25343678e+01, 3.20492267e+01,\n",
       "       3.15713198e+01, 3.11005393e+01, 3.06367789e+01, 3.01799339e+01,\n",
       "       2.97299012e+01, 2.92865793e+01, 2.88498680e+01, 2.84196688e+01,\n",
       "       2.79958846e+01, 2.75784198e+01, 2.71671800e+01, 2.67620724e+01,\n",
       "       2.63630057e+01, 2.59698898e+01, 2.55826358e+01, 2.52011565e+01,\n",
       "       2.48253656e+01, 2.44551784e+01, 2.40905113e+01, 2.37312820e+01,\n",
       "       2.33774094e+01, 2.30288136e+01, 2.26854160e+01, 2.23471389e+01,\n",
       "       2.20139062e+01, 2.16856425e+01, 2.13622737e+01, 2.10437270e+01,\n",
       "       2.07299302e+01, 2.04208127e+01, 2.01163047e+01, 1.98163374e+01,\n",
       "       1.95208430e+01, 1.92297550e+01, 1.89430076e+01, 1.86605361e+01,\n",
       "       1.83822767e+01, 1.81081666e+01, 1.78381439e+01, 1.75721477e+01,\n",
       "       1.73101180e+01, 1.70519955e+01, 1.67977221e+01, 1.65472403e+01,\n",
       "       1.63004936e+01, 1.60574264e+01, 1.58179836e+01, 1.55821114e+01,\n",
       "       1.53497563e+01, 1.51208661e+01, 1.48953890e+01, 1.46732742e+01,\n",
       "       1.44544714e+01, 1.42389314e+01, 1.40266054e+01, 1.38174455e+01,\n",
       "       1.36114046e+01, 1.34084361e+01, 1.32084942e+01, 1.30115337e+01,\n",
       "       1.28175102e+01, 1.26263800e+01, 1.24380998e+01, 1.22526272e+01,\n",
       "       1.20699203e+01, 1.18899378e+01, 1.17126392e+01, 1.15379844e+01,\n",
       "       1.13659340e+01, 1.11964492e+01, 1.10294916e+01, 1.08650237e+01,\n",
       "       1.07030083e+01, 1.05434087e+01, 1.03861891e+01, 1.02313139e+01,\n",
       "       1.00787481e+01, 9.92845728e+00, 9.78040759e+00, 9.63456556e+00,\n",
       "       9.49089827e+00, 9.34937330e+00, 9.20995871e+00, 9.07262301e+00,\n",
       "       8.93733522e+00, 8.80406479e+00, 8.67278164e+00, 8.54345614e+00,\n",
       "       8.41605910e+00, 8.29056176e+00, 8.16693579e+00, 8.04515329e+00,\n",
       "       7.92518677e+00, 7.80700914e+00, 7.69059374e+00, 7.57591429e+00,\n",
       "       7.46294489e+00, 7.35166006e+00, 7.24203466e+00, 7.13404397e+00,\n",
       "       7.02766359e+00, 6.92286952e+00, 6.81963810e+00, 6.71794603e+00,\n",
       "       6.61777036e+00, 6.51908847e+00, 6.42187810e+00, 6.32611729e+00,\n",
       "       6.23178443e+00, 6.13885823e+00, 6.04731772e+00, 5.95714222e+00,\n",
       "       5.86831139e+00, 5.78080518e+00, 5.69460382e+00, 5.60968788e+00,\n",
       "       5.52603817e+00, 5.44363581e+00, 5.36246221e+00, 5.28249904e+00,\n",
       "       5.20372825e+00, 5.12613207e+00, 5.04969298e+00, 4.97439371e+00,\n",
       "       4.90021729e+00, 4.82714695e+00, 4.75516622e+00, 4.68425884e+00,\n",
       "       4.61440880e+00, 4.54560035e+00, 4.47781794e+00, 4.41104628e+00,\n",
       "       4.34527029e+00, 4.28047513e+00, 4.21664618e+00, 4.15376902e+00,\n",
       "       4.09182946e+00, 4.03081353e+00, 3.97070744e+00, 3.91149764e+00,\n",
       "       3.85317075e+00, 3.79571361e+00, 3.73911325e+00, 3.68335689e+00,\n",
       "       3.62843196e+00, 3.57432605e+00, 3.52102694e+00, 3.46852261e+00,\n",
       "       3.41680121e+00, 3.36585106e+00, 3.31566066e+00, 3.26621869e+00,\n",
       "       3.21751397e+00, 3.16953553e+00, 3.12227252e+00, 3.07571428e+00,\n",
       "       3.02985030e+00, 2.98467022e+00, 2.94016386e+00, 2.89632116e+00,\n",
       "       2.85313223e+00, 2.81058732e+00, 2.76867682e+00, 2.72739127e+00,\n",
       "       2.68672136e+00, 2.64665791e+00, 2.60719187e+00, 2.56831433e+00,\n",
       "       2.53001653e+00, 2.49228980e+00, 2.45512564e+00, 2.41851566e+00,\n",
       "       2.38245160e+00, 2.34692531e+00, 2.31192878e+00, 2.27745410e+00,\n",
       "       2.24349350e+00, 2.21003931e+00, 2.17708397e+00, 2.14462005e+00,\n",
       "       2.11264023e+00, 2.08113727e+00, 2.05010408e+00, 2.01953364e+00,\n",
       "       1.98941906e+00, 1.95975353e+00, 1.93053037e+00, 1.90174298e+00,\n",
       "       1.87338485e+00, 1.84544959e+00, 1.81793088e+00, 1.79082253e+00,\n",
       "       1.76411841e+00, 1.73781249e+00, 1.71189884e+00, 1.68637160e+00,\n",
       "       1.66122501e+00, 1.63645340e+00, 1.61205118e+00, 1.58801283e+00,\n",
       "       1.56433294e+00, 1.54100615e+00, 1.51802721e+00, 1.49539091e+00,\n",
       "       1.47309216e+00, 1.45112593e+00, 1.42948724e+00, 1.40817123e+00,\n",
       "       1.38717307e+00, 1.36648803e+00, 1.34611143e+00, 1.32603869e+00,\n",
       "       1.30626526e+00, 1.28678669e+00, 1.26759857e+00, 1.24869659e+00,\n",
       "       1.23007646e+00, 1.21173399e+00, 1.19366503e+00, 1.17586551e+00,\n",
       "       1.15833142e+00, 1.14105878e+00, 1.12404371e+00, 1.10728236e+00,\n",
       "       1.09077095e+00, 1.07450576e+00, 1.05848310e+00, 1.04269937e+00,\n",
       "       1.02715100e+00, 1.01183448e+00, 9.96746360e-01, 9.81883225e-01])"
      ]
     },
     "execution_count": 116,
     "metadata": {},
     "output_type": "execute_result"
    }
   ],
   "source": [
    "x=np.linspace(0,20,len(decay))\n",
    "#y=expo(x,param[0], param[1])\n",
    "y=param[0]*np.exp(-x/param[1])\n",
    "y"
   ]
  },
  {
   "cell_type": "code",
   "execution_count": 136,
   "id": "9cafb672",
   "metadata": {},
   "outputs": [
    {
     "data": {
      "text/plain": [
       "Text(0.5, 1.0, 'Frecuencia vs. Tiempo (regresión)')"
      ]
     },
     "execution_count": 136,
     "metadata": {},
     "output_type": "execute_result"
    },
    {
     "data": {
      "image/png": "[encoded data removed]",
      "text/plain": [
       "<Figure size 640x480 with 1 Axes>"
      ]
     },
     "metadata": {},
     "output_type": "display_data"
    }
   ],
   "source": [
    "plt.plot(x,y,color='red')\n",
    "plt.scatter(Time, decay, s=5)\n",
    "\n",
    "plt.xlabel('Muon Decay Time (µs)')\n",
    "plt.ylabel('Frecuencia')\n",
    "plt.title('Frecuencia vs. Tiempo (regresión)')"
   ]
  },
  {
   "cell_type": "code",
   "execution_count": 137,
   "id": "8d973c77",
   "metadata": {},
   "outputs": [
    {
     "data": {
      "text/plain": [
       "Text(0.5, 1.0, 'Frecuencia vs. Tiempo (regresión e incertidumbres)')"
      ]
     },
     "execution_count": 137,
     "metadata": {},
     "output_type": "execute_result"
    },
    {
     "data": {
      "image/png": "[encoded data removed]",
      "text/plain": [
       "<Figure size 640x480 with 1 Axes>"
      ]
     },
     "metadata": {},
     "output_type": "display_data"
    }
   ],
   "source": [
    "plt.plot(x,y,color='red')\n",
    "plt.scatter(Time, decay, s=5)\n",
    "plt.errorbar(Time, decay,Ter,Der,fmt='o')\n",
    "plt.xlabel('Muon Decay Time (µs)')\n",
    "plt.ylabel('Frecuencia')\n",
    "plt.title('Frecuencia vs. Tiempo (regresión e incertidumbres)')"
   ]
  },
  {
   "cell_type": "code",
   "execution_count": 118,
   "id": "ca26e44c",
   "metadata": {},
   "outputs": [],
   "source": [
    "y_fit=param[0]*np.exp(-Time/param[1])"
   ]
  },
  {
   "cell_type": "code",
   "execution_count": 119,
   "id": "302d37d8",
   "metadata": {},
   "outputs": [],
   "source": [
    "residual=(decay-y_fit)"
   ]
  },
  {
   "cell_type": "code",
   "execution_count": 122,
   "id": "06f0793d",
   "metadata": {},
   "outputs": [],
   "source": [
    "xc=np.linspace(0,20,1000)\n",
    "yc =np.zeros(len(xc))"
   ]
  },
  {
   "cell_type": "code",
   "execution_count": 134,
   "id": "e6dff1f8",
   "metadata": {},
   "outputs": [
    {
     "data": {
      "text/plain": [
       "<matplotlib.lines.Line2D at 0x2ddc60f0d50>"
      ]
     },
     "execution_count": 134,
     "metadata": {},
     "output_type": "execute_result"
    },
    {
     "data": {
      "image/png": "[encoded data removed]",
      "text/plain": [
       "<Figure size 640x480 with 1 Axes>"
      ]
     },
     "metadata": {},
     "output_type": "display_data"
    }
   ],
   "source": [
    "fig, ax = plt.subplots()\n",
    "ax.set_title('Residuales segunda toma de datos')\n",
    "ax.scatter(Time,residual, s=1)\n",
    "ax.set_xlabel('Muon Decay Time (µs)')\n",
    "ax.set_ylabel('Residuales')\n",
    "ax.axhline(0, color='black', linewidth=1, linestyle='--')"
   ]
  },
  {
   "cell_type": "code",
   "execution_count": null,
   "id": "f3448b17",
   "metadata": {},
   "outputs": [],
   "source": []
  },
  {
   "cell_type": "code",
   "execution_count": null,
   "id": "7364e167",
   "metadata": {},
   "outputs": [],
   "source": []
  }
 ],
 "metadata": {
  "kernelspec": {
   "display_name": "Python 3 (ipykernel)",
   "language": "python",
   "name": "python3"
  },
  "language_info": {
   "codemirror_mode": {
    "name": "ipython",
    "version": 3
   },
   "file_extension": ".py",
   "mimetype": "text/x-python",
   "name": "python",
   "nbconvert_exporter": "python",
   "pygments_lexer": "ipython3",
   "version": "3.11.5"
  }
 },
 "nbformat": 4,
 "nbformat_minor": 5
}

{
 "cells": [
  {
   "cell_type": "code",
   "execution_count": 1,
   "id": "f27377c8",
   "metadata": {},
   "outputs": [
    {
     "name": "stdout",
     "output_type": "stream",
     "text": [
      "        40000  1715382134\n",
      "0       40000  1715382135\n",
      "1       40000  1715382136\n",
      "2       40000  1715382137\n",
      "3       40000  1715382138\n",
      "4       40000  1715382139\n",
      "...       ...         ...\n",
      "503741  40000  1724170992\n",
      "503742  40000  1724170993\n",
      "503743  40000  1724170994\n",
      "503744  40000  1724170995\n",
      "503745  40000  1724170996\n",
      "\n",
      "[503746 rows x 2 columns]\n"
     ]
    }
   ],
   "source": [
    "import numpy as np\n",
    "import pandas as pd\n",
    "import matplotlib.pyplot as plt\n",
    "import scipy\n",
    "from scipy.optimize import curve_fit\n",
    "\n",
    "data = \"C:/Programación/Lab Intermedio/Muones/muon.data\"\n",
    "data = pd.read_csv(data, delimiter=' ')\n",
    "\n",
    "print(data)"
   ]
  },
  {
   "cell_type": "code",
   "execution_count": 2,
   "id": "929cb299",
   "metadata": {},
   "outputs": [
    {
     "data": {
      "text/html": [
       "<div>\n",
       "<style scoped>\n",
       "    .dataframe tbody tr th:only-of-type {\n",
       "        vertical-align: middle;\n",
       "    }\n",
       "\n",
       "    .dataframe tbody tr th {\n",
       "        vertical-align: top;\n",
       "    }\n",
       "\n",
       "    .dataframe thead th {\n",
       "        text-align: right;\n",
       "    }\n",
       "</style>\n",
       "<table border=\"1\" class=\"dataframe\">\n",
       "  <thead>\n",
       "    <tr style=\"text-align: right;\">\n",
       "      <th></th>\n",
       "      <th>Tiempo</th>\n",
       "      <th>Fecha</th>\n",
       "    </tr>\n",
       "  </thead>\n",
       "  <tbody>\n",
       "    <tr>\n",
       "      <th>0</th>\n",
       "      <td>40000</td>\n",
       "      <td>1715382135</td>\n",
       "    </tr>\n",
       "    <tr>\n",
       "      <th>1</th>\n",
       "      <td>40000</td>\n",
       "      <td>1715382136</td>\n",
       "    </tr>\n",
       "    <tr>\n",
       "      <th>2</th>\n",
       "      <td>40000</td>\n",
       "      <td>1715382137</td>\n",
       "    </tr>\n",
       "    <tr>\n",
       "      <th>3</th>\n",
       "      <td>40000</td>\n",
       "      <td>1715382138</td>\n",
       "    </tr>\n",
       "    <tr>\n",
       "      <th>4</th>\n",
       "      <td>40000</td>\n",
       "      <td>1715382139</td>\n",
       "    </tr>\n",
       "    <tr>\n",
       "      <th>...</th>\n",
       "      <td>...</td>\n",
       "      <td>...</td>\n",
       "    </tr>\n",
       "    <tr>\n",
       "      <th>503741</th>\n",
       "      <td>40000</td>\n",
       "      <td>1724170992</td>\n",
       "    </tr>\n",
       "    <tr>\n",
       "      <th>503742</th>\n",
       "      <td>40000</td>\n",
       "      <td>1724170993</td>\n",
       "    </tr>\n",
       "    <tr>\n",
       "      <th>503743</th>\n",
       "      <td>40000</td>\n",
       "      <td>1724170994</td>\n",
       "    </tr>\n",
       "    <tr>\n",
       "      <th>503744</th>\n",
       "      <td>40000</td>\n",
       "      <td>1724170995</td>\n",
       "    </tr>\n",
       "    <tr>\n",
       "      <th>503745</th>\n",
       "      <td>40000</td>\n",
       "      <td>1724170996</td>\n",
       "    </tr>\n",
       "  </tbody>\n",
       "</table>\n",
       "<p>503746 rows × 2 columns</p>\n",
       "</div>"
      ],
      "text/plain": [
       "        Tiempo       Fecha\n",
       "0        40000  1715382135\n",
       "1        40000  1715382136\n",
       "2        40000  1715382137\n",
       "3        40000  1715382138\n",
       "4        40000  1715382139\n",
       "...        ...         ...\n",
       "503741   40000  1724170992\n",
       "503742   40000  1724170993\n",
       "503743   40000  1724170994\n",
       "503744   40000  1724170995\n",
       "503745   40000  1724170996\n",
       "\n",
       "[503746 rows x 2 columns]"
      ]
     },
     "execution_count": 2,
     "metadata": {},
     "output_type": "execute_result"
    }
   ],
   "source": [
    "df=pd.DataFrame(data)\n",
    "df=df.rename(columns={'40000':'Tiempo','1715382134':'Fecha'})\n",
    "df"
   ]
  },
  {
   "cell_type": "code",
   "execution_count": null,
   "id": "29ecebbe",
   "metadata": {},
   "outputs": [],
   "source": []
  },
  {
   "cell_type": "code",
   "execution_count": 3,
   "id": "b76da68b",
   "metadata": {},
   "outputs": [
    {
     "data": {
      "text/html": [
       "<div>\n",
       "<style scoped>\n",
       "    .dataframe tbody tr th:only-of-type {\n",
       "        vertical-align: middle;\n",
       "    }\n",
       "\n",
       "    .dataframe tbody tr th {\n",
       "        vertical-align: top;\n",
       "    }\n",
       "\n",
       "    .dataframe thead th {\n",
       "        text-align: right;\n",
       "    }\n",
       "</style>\n",
       "<table border=\"1\" class=\"dataframe\">\n",
       "  <thead>\n",
       "    <tr style=\"text-align: right;\">\n",
       "      <th></th>\n",
       "      <th>Tiempo</th>\n",
       "    </tr>\n",
       "  </thead>\n",
       "  <tbody>\n",
       "    <tr>\n",
       "      <th>954</th>\n",
       "      <td>2.74</td>\n",
       "    </tr>\n",
       "    <tr>\n",
       "      <th>970</th>\n",
       "      <td>1.24</td>\n",
       "    </tr>\n",
       "    <tr>\n",
       "      <th>987</th>\n",
       "      <td>3.06</td>\n",
       "    </tr>\n",
       "    <tr>\n",
       "      <th>1003</th>\n",
       "      <td>3.78</td>\n",
       "    </tr>\n",
       "    <tr>\n",
       "      <th>1006</th>\n",
       "      <td>15.70</td>\n",
       "    </tr>\n",
       "    <tr>\n",
       "      <th>...</th>\n",
       "      <td>...</td>\n",
       "    </tr>\n",
       "    <tr>\n",
       "      <th>503065</th>\n",
       "      <td>0.94</td>\n",
       "    </tr>\n",
       "    <tr>\n",
       "      <th>503071</th>\n",
       "      <td>0.06</td>\n",
       "    </tr>\n",
       "    <tr>\n",
       "      <th>503145</th>\n",
       "      <td>3.22</td>\n",
       "    </tr>\n",
       "    <tr>\n",
       "      <th>503194</th>\n",
       "      <td>0.10</td>\n",
       "    </tr>\n",
       "    <tr>\n",
       "      <th>503233</th>\n",
       "      <td>0.40</td>\n",
       "    </tr>\n",
       "  </tbody>\n",
       "</table>\n",
       "<p>16681 rows × 1 columns</p>\n",
       "</div>"
      ],
      "text/plain": [
       "        Tiempo\n",
       "954       2.74\n",
       "970       1.24\n",
       "987       3.06\n",
       "1003      3.78\n",
       "1006     15.70\n",
       "...        ...\n",
       "503065    0.94\n",
       "503071    0.06\n",
       "503145    3.22\n",
       "503194    0.10\n",
       "503233    0.40\n",
       "\n",
       "[16681 rows x 1 columns]"
      ]
     },
     "execution_count": 3,
     "metadata": {},
     "output_type": "execute_result"
    }
   ],
   "source": [
    "df1=df.drop('Fecha', axis=1)\n",
    "df1=df1[df1['Tiempo']<40000]*10**(-3)\n",
    "df1"
   ]
  },
  {
   "cell_type": "code",
   "execution_count": 4,
   "id": "d7c4e662",
   "metadata": {},
   "outputs": [],
   "source": [
    "filas=len(df1)"
   ]
  },
  {
   "cell_type": "code",
   "execution_count": 5,
   "id": "72226494",
   "metadata": {},
   "outputs": [
    {
     "data": {
      "text/html": [
       "<div>\n",
       "<style scoped>\n",
       "    .dataframe tbody tr th:only-of-type {\n",
       "        vertical-align: middle;\n",
       "    }\n",
       "\n",
       "    .dataframe tbody tr th {\n",
       "        vertical-align: top;\n",
       "    }\n",
       "\n",
       "    .dataframe thead th {\n",
       "        text-align: right;\n",
       "    }\n",
       "</style>\n",
       "<table border=\"1\" class=\"dataframe\">\n",
       "  <thead>\n",
       "    <tr style=\"text-align: right;\">\n",
       "      <th></th>\n",
       "      <th>Tiempo</th>\n",
       "      <th>Cantidad</th>\n",
       "      <th>Error Tiempo</th>\n",
       "      <th>Error decay</th>\n",
       "    </tr>\n",
       "  </thead>\n",
       "  <tbody>\n",
       "    <tr>\n",
       "      <th>0</th>\n",
       "      <td>0.04</td>\n",
       "      <td>28</td>\n",
       "      <td>0.01</td>\n",
       "      <td>0.01</td>\n",
       "    </tr>\n",
       "    <tr>\n",
       "      <th>1</th>\n",
       "      <td>0.06</td>\n",
       "      <td>734</td>\n",
       "      <td>0.01</td>\n",
       "      <td>0.01</td>\n",
       "    </tr>\n",
       "    <tr>\n",
       "      <th>2</th>\n",
       "      <td>0.08</td>\n",
       "      <td>48</td>\n",
       "      <td>0.01</td>\n",
       "      <td>0.01</td>\n",
       "    </tr>\n",
       "    <tr>\n",
       "      <th>3</th>\n",
       "      <td>0.10</td>\n",
       "      <td>103</td>\n",
       "      <td>0.01</td>\n",
       "      <td>0.01</td>\n",
       "    </tr>\n",
       "    <tr>\n",
       "      <th>4</th>\n",
       "      <td>0.12</td>\n",
       "      <td>73</td>\n",
       "      <td>0.01</td>\n",
       "      <td>0.01</td>\n",
       "    </tr>\n",
       "    <tr>\n",
       "      <th>...</th>\n",
       "      <td>...</td>\n",
       "      <td>...</td>\n",
       "      <td>...</td>\n",
       "      <td>...</td>\n",
       "    </tr>\n",
       "    <tr>\n",
       "      <th>732</th>\n",
       "      <td>19.82</td>\n",
       "      <td>1</td>\n",
       "      <td>0.01</td>\n",
       "      <td>0.01</td>\n",
       "    </tr>\n",
       "    <tr>\n",
       "      <th>733</th>\n",
       "      <td>19.84</td>\n",
       "      <td>1</td>\n",
       "      <td>0.01</td>\n",
       "      <td>0.01</td>\n",
       "    </tr>\n",
       "    <tr>\n",
       "      <th>734</th>\n",
       "      <td>19.88</td>\n",
       "      <td>1</td>\n",
       "      <td>0.01</td>\n",
       "      <td>0.01</td>\n",
       "    </tr>\n",
       "    <tr>\n",
       "      <th>735</th>\n",
       "      <td>19.90</td>\n",
       "      <td>1</td>\n",
       "      <td>0.01</td>\n",
       "      <td>0.01</td>\n",
       "    </tr>\n",
       "    <tr>\n",
       "      <th>736</th>\n",
       "      <td>19.96</td>\n",
       "      <td>1</td>\n",
       "      <td>0.01</td>\n",
       "      <td>0.01</td>\n",
       "    </tr>\n",
       "  </tbody>\n",
       "</table>\n",
       "<p>737 rows × 4 columns</p>\n",
       "</div>"
      ],
      "text/plain": [
       "     Tiempo  Cantidad  Error Tiempo  Error decay\n",
       "0      0.04        28          0.01         0.01\n",
       "1      0.06       734          0.01         0.01\n",
       "2      0.08        48          0.01         0.01\n",
       "3      0.10       103          0.01         0.01\n",
       "4      0.12        73          0.01         0.01\n",
       "..      ...       ...           ...          ...\n",
       "732   19.82         1          0.01         0.01\n",
       "733   19.84         1          0.01         0.01\n",
       "734   19.88         1          0.01         0.01\n",
       "735   19.90         1          0.01         0.01\n",
       "736   19.96         1          0.01         0.01\n",
       "\n",
       "[737 rows x 4 columns]"
      ]
     },
     "execution_count": 5,
     "metadata": {},
     "output_type": "execute_result"
    }
   ],
   "source": [
    "conteo_df = df1.groupby('Tiempo').size().reset_index(name='Cantidad')\n",
    "#conteo_df=df1.groupby('error-Tiempo').size().reset_index(name='Cantidad')\n",
    "conteo_df['Error Tiempo']=0.01\n",
    "conteo_df['Error decay']=0.01\n",
    "conteo_df"
   ]
  },
  {
   "cell_type": "code",
   "execution_count": 6,
   "id": "f8b7e1cf",
   "metadata": {},
   "outputs": [],
   "source": [
    "Time,Cantidad=np.array(conteo_df['Tiempo']), np.array(conteo_df['Cantidad'])"
   ]
  },
  {
   "cell_type": "code",
   "execution_count": 7,
   "id": "8505f8f6",
   "metadata": {},
   "outputs": [],
   "source": [
    "#plt.scatter(conteo_df['Cantidad'],conteo_df['Tiempo'], s=1)"
   ]
  },
  {
   "cell_type": "code",
   "execution_count": 8,
   "id": "28a68664",
   "metadata": {},
   "outputs": [],
   "source": [
    "Ter, Der=np.array(conteo_df['Error Tiempo']),np.array(conteo_df['Error decay'])"
   ]
  },
  {
   "cell_type": "code",
   "execution_count": 9,
   "id": "6a118432",
   "metadata": {},
   "outputs": [],
   "source": [
    "f_cum=np.cumsum(Cantidad)"
   ]
  },
  {
   "cell_type": "code",
   "execution_count": 10,
   "id": "06c87018",
   "metadata": {},
   "outputs": [],
   "source": [
    "decay=filas-f_cum\n",
    "#decay[-1]=1/10000000"
   ]
  },
  {
   "cell_type": "code",
   "execution_count": null,
   "id": "ca66df6e",
   "metadata": {},
   "outputs": [],
   "source": []
  },
  {
   "cell_type": "code",
   "execution_count": 11,
   "id": "14966f97",
   "metadata": {},
   "outputs": [
    {
     "data": {
      "text/plain": [
       "Text(0, 0.5, 'Frecuencia')"
      ]
     },
     "execution_count": 11,
     "metadata": {},
     "output_type": "execute_result"
    },
    {
     "data": {
      "image/png": "[encoded data removed]",
      "text/plain": [
       "<Figure size 640x480 with 1 Axes>"
      ]
     },
     "metadata": {},
     "output_type": "display_data"
    }
   ],
   "source": [
    "plt.scatter(Time, decay, s=1)\n",
    "plt.xlabel('Muon Decay Time (µs)')\n",
    "plt.ylabel('Frecuencia')"
   ]
  },
  {
   "cell_type": "code",
   "execution_count": 13,
   "id": "8b52b6d7",
   "metadata": {},
   "outputs": [],
   "source": [
    "#def expo(x,a,b):\n",
    " #   return a*np.exp(-x/b)"
   ]
  },
  {
   "cell_type": "code",
   "execution_count": 18,
   "id": "25ae012d",
   "metadata": {},
   "outputs": [
    {
     "name": "stderr",
     "output_type": "stream",
     "text": [
      "C:\\Users\\Personal\\AppData\\Local\\Temp\\ipykernel_25124\\2302877479.py:1: RuntimeWarning: overflow encountered in exp\n",
      "  param, cov= scipy.optimize.curve_fit(lambda t,a,b,c: a*np.exp(-t*b) +c , Time,decay)\n",
      "C:\\Users\\Personal\\AppData\\Local\\Temp\\ipykernel_25124\\2302877479.py:1: RuntimeWarning: overflow encountered in multiply\n",
      "  param, cov= scipy.optimize.curve_fit(lambda t,a,b,c: a*np.exp(-t*b) +c , Time,decay)\n"
     ]
    },
    {
     "data": {
      "text/plain": [
       "array([1.07058811e+02, 6.03690688e-03, 2.63935944e+01])"
      ]
     },
     "execution_count": 18,
     "metadata": {},
     "output_type": "execute_result"
    }
   ],
   "source": [
    "param, cov= scipy.optimize.curve_fit(lambda t,a,b,c: a*np.exp(-t*b) +c , Time,decay)\n",
    "incert =np.sqrt(np.diag(cov))\n",
    "incert"
   ]
  },
  {
   "cell_type": "code",
   "execution_count": 19,
   "id": "d3358f32",
   "metadata": {},
   "outputs": [
    {
     "data": {
      "text/plain": [
       "(array([1.56506521e+04, 5.20880094e-01, 4.09678657e+02]),\n",
       " array([1.07058811e+02, 6.03690688e-03, 2.63935944e+01]))"
      ]
     },
     "execution_count": 19,
     "metadata": {},
     "output_type": "execute_result"
    }
   ],
   "source": [
    "param, incert"
   ]
  },
  {
   "cell_type": "code",
   "execution_count": 20,
   "id": "3c6cc1b2",
   "metadata": {},
   "outputs": [
    {
     "data": {
      "text/plain": [
       "1.9198276386239668"
      ]
     },
     "execution_count": 20,
     "metadata": {},
     "output_type": "execute_result"
    }
   ],
   "source": [
    "1/param[1]"
   ]
  },
  {
   "cell_type": "code",
   "execution_count": 21,
   "id": "a93fabb6",
   "metadata": {},
   "outputs": [
    {
     "data": {
      "text/plain": [
       "array([16060.33073633, 15840.3663224 , 15623.49343098, 15409.66861183,\n",
       "       15198.84902535, 14990.99243406, 14786.0571941 , 14584.00224691,\n",
       "       14384.78711098, 14188.37187376, 13994.71718366, 13803.78424217,\n",
       "       13615.53479605, 13429.93112974, 13246.93605771, 13066.51291711,\n",
       "       12888.62556032, 12713.23834781, 12540.31614093, 12369.82429488,\n",
       "       12201.72865181, 12035.99553391, 11872.59173673, 11711.48452249,\n",
       "       11552.64161351, 11396.03118579, 11241.62186258, 11089.38270814,\n",
       "       10939.28322151, 10791.29333039, 10645.38338519, 10501.52415297,\n",
       "       10359.6868117 , 10219.84294441, 10081.96453352,  9946.02395523,\n",
       "        9811.99397398,  9679.84773702,  9549.55876896,  9421.10096656,\n",
       "        9294.44859341,  9169.57627486,  9046.45899285,  8925.07208097,\n",
       "        8805.39121946,  8687.3924304 ,  8571.05207284,  8456.34683811,\n",
       "        8343.25374515,  8231.75013585,  8121.81367059,  8013.4223237 ,\n",
       "        7906.5543791 ,  7801.1884259 ,  7697.30335413,  7594.87835053,\n",
       "        7493.89289436,  7394.32675328,  7296.15997931,  7199.37290485,\n",
       "        7103.9461387 ,  7009.86056221,  6917.09732542,  6825.63784332,\n",
       "        6735.4637921 ,  6646.55710547,  6558.89997107,  6472.47482688,\n",
       "        6387.26435772,  6303.25149175,  6220.41939709,  6138.7514784 ,\n",
       "        6058.2313736 ,  5978.84295057,  5900.57030392,  5823.39775181,\n",
       "        5747.3098328 ,  5672.29130274,  5598.32713175,  5525.40250119,\n",
       "        5453.50280068,  5382.61362519,  5312.72077215,  5243.81023858,\n",
       "        5175.86821835,  5108.88109932,  5042.83546071,  4977.71807034,\n",
       "        4913.515882  ,  4850.21603285,  4787.80584083,  4726.27280213,\n",
       "        4665.60458865,  4605.78904559,  4546.81418897,  4488.66820322,\n",
       "        4431.33943887,  4374.81641015,  4319.08779273,  4264.14242144,\n",
       "        4209.96928803,  4156.55753897,  4103.89647327,  4051.97554033,\n",
       "        4000.78433786,  3950.31260975,  3900.55024404,  3851.48727088,\n",
       "        3803.11386057,  3755.42032154,  3708.39709843,  3662.0347702 ,\n",
       "        3616.32404819,  3571.25577432,  3526.82091919,  3483.01058034,\n",
       "        3439.8159804 ,  3397.22846537,  3355.2395029 ,  3313.84068055,\n",
       "        3273.02370408,  3232.78039588,  3193.10269323,  3153.98264674,\n",
       "        3115.41241875,  3077.38428176,  3039.89061687,  3002.92391227,\n",
       "        2966.4767617 ,  2930.54186302,  2895.11201671,  2860.18012444,\n",
       "        2825.73918764,  2791.7823061 ,  2758.30267659,  2725.29359151,\n",
       "        2692.74843751,  2660.66069422,  2629.02393288,  2597.8318151 ,\n",
       "        2567.07809157,  2536.75660082,  2506.86126796,  2477.3861035 ,\n",
       "        2448.32520211,  2419.67274148,  2391.42298111,  2363.57026119,\n",
       "        2336.10900146,  2309.03370009,  2282.33893256,  2256.0193506 ,\n",
       "        2230.06968112,  2204.48472512,  2179.25935668,  2154.38852193,\n",
       "        2129.86723802,  2105.69059214,  2081.85374052,  2058.35190747,\n",
       "        2035.18038442,  2012.33452899,  1989.80976402,  1967.6015767 ,\n",
       "        1945.70551766,  1924.11720002,  1902.83229861,  1881.846549  ,\n",
       "        1861.15574672,  1840.7557464 ,  1820.64246092,  1800.81186059,\n",
       "        1781.25997238,  1761.98287908,  1742.97671856,  1724.23768294,\n",
       "        1705.76201788,  1687.5460218 ,  1669.58604514,  1651.87848964,\n",
       "        1634.41980761,  1617.20650121,  1600.23512179,  1583.50226914,\n",
       "        1567.00459086,  1550.73878164,  1534.70158266,  1518.88978087,\n",
       "        1503.30020839,  1487.92974188,  1472.77530187,  1457.83385219,\n",
       "        1443.10239933,  1428.57799187,  1414.25771985,  1400.13871421,\n",
       "        1386.21814624,  1372.49322696,  1358.96120659,  1345.61937402,\n",
       "        1332.46505621,  1319.49561771,  1306.70846012,  1294.10102153,\n",
       "        1281.67077606,  1269.41523331,  1257.33193792,  1245.41846899,\n",
       "        1233.67243968,  1222.09149669,  1210.67331978,  1199.41562133,\n",
       "        1188.31614588,  1177.37266965,  1166.58300013,  1155.94497563,\n",
       "        1145.45646482,  1135.11536635,  1124.91960838,  1114.8671482 ,\n",
       "        1104.95597182,  1095.18409354,  1085.54955557,  1076.05042765,\n",
       "        1066.68480663,  1057.45081613,  1048.34660611,  1039.37035257,\n",
       "        1030.52025711,  1021.79454664,  1013.19147296,  1004.70931245,\n",
       "         996.34636573,   988.10095729,   979.97143516,   971.95617061,\n",
       "         964.05355779,   956.26201341,   948.57997645,   941.00590782,\n",
       "         933.53829006,   926.17562705,   918.91644367,   911.75928557,\n",
       "         904.70271881,   897.74532961,   890.88572407,   884.12252788,\n",
       "         877.45438603,   870.87996257,   864.39794033,   858.00702063,\n",
       "         851.70592305,   845.49338519,   839.36816237,   833.3290274 ,\n",
       "         827.37477035,   821.50419828,   815.71613505,   810.00942101,\n",
       "         804.38291283,   798.83548324,   793.36602083,   787.97342979,\n",
       "         782.65662972,   777.41455541,   772.24615661,   767.15039784,\n",
       "         762.12625816,   757.172731  ,   752.28882393,   747.47355845,\n",
       "         742.72596984,   738.04510692,   733.43003188,   728.87982009,\n",
       "         724.39355994,   719.97035259,   715.60931187,   711.30956404,\n",
       "         707.07024766,   702.89051338,   698.7695238 ,   694.70645327,\n",
       "         690.70048778,   686.75082472,   682.85667278,   679.01725179,\n",
       "         675.2317925 ,   671.49953652,   667.81973608,   664.19165394,\n",
       "         660.61456322,   657.08774726,   653.61049945,   650.18212314,\n",
       "         646.80193146,   643.46924718,   640.1834026 ,   636.94373942,\n",
       "         633.74960856,   630.60037009,   627.49539306,   624.43405539,\n",
       "         621.41574375,   618.43985341,   615.50578817,   612.61296018,\n",
       "         609.76078988,   606.94870582,   604.17614462,   601.44255079,\n",
       "         598.74737666,   596.09008226,   593.4701352 ,   590.88701057,\n",
       "         588.34019084,   585.82916578,   583.35343229,   580.91249436,\n",
       "         578.50586296,   576.13305592,   573.79359785,   571.48702003,\n",
       "         569.21286036,   566.9706632 ,   564.75997934,   562.58036586,\n",
       "         560.43138608,   558.31260945,   556.22361149,   554.16397366,\n",
       "         552.13328332,   550.13113361,   548.15712341,   546.21085724,\n",
       "         544.29194515,   542.4000027 ,   540.53465083,   538.69551583,\n",
       "         536.88222922,   535.09442772,   533.33175314,   531.59385233,\n",
       "         529.88037711,   528.19098418,   526.52533507,   524.88309608,\n",
       "         523.26393817,   521.66753697,   520.09357262,   518.54172978,\n",
       "         517.01169756,   515.50316939,   514.01584306,   512.54942058,\n",
       "         511.10360815,   509.67811611,   508.27265886,   506.88695481,\n",
       "         505.52072635,   504.17369975,   502.84560513,   501.53617642,\n",
       "         500.24515127,   498.97227102,   497.71728066,   496.47992874,\n",
       "         495.25996737,   494.05715213,   492.87124204,   491.70199949,\n",
       "         490.54919024,   489.41258331,   488.291951  ,   487.18706878,\n",
       "         486.09771529,   485.02367228,   483.96472457,   482.92066   ,\n",
       "         481.89126939,   480.8763465 ,   479.87568799,   478.88909339,\n",
       "         477.91636503,   476.95730803,   476.01173023,   475.0794422 ,\n",
       "         474.16025714,   473.25399091,   472.36046194,   471.4794912 ,\n",
       "         470.61090219,   469.7545209 ,   468.91017574,   468.07769756,\n",
       "         467.25691957,   466.44767732,   465.64980869,   464.86315382,\n",
       "         464.08755511,   463.32285717,   462.56890679,   461.82555291,\n",
       "         461.09264661,   460.37004106,   459.65759147,   458.95515511,\n",
       "         458.26259124,   457.57976112,   456.90652793,   456.2427568 ,\n",
       "         455.58831474,   454.94307064,   454.30689521,   453.679661  ,\n",
       "         453.06124235,   452.45151536,   451.85035786,   451.25764943,\n",
       "         450.6732713 ,   450.0971064 ,   449.5290393 ,   448.96895618,\n",
       "         448.41674483,   447.87229461,   447.33549646,   446.80624281,\n",
       "         446.28442764,   445.76994639,   445.262696  ,   444.76257484,\n",
       "         444.2694827 ,   443.7833208 ,   443.30399173,   442.83139947,\n",
       "         442.36544932,   441.90604794,   441.45310328,   441.00652461,\n",
       "         440.56622243,   440.13210855,   439.70409599,   439.282099  ,\n",
       "         438.86603302,   438.4558147 ,   438.05136186,   437.65259347,\n",
       "         437.25942962,   436.87179155,   436.4896016 ,   436.11278319,\n",
       "         435.74126083,   435.37496009,   435.01380758,   434.65773094,\n",
       "         434.30665883,   433.96052092,   433.61924785,   433.28277126,\n",
       "         432.95102372,   432.62393878,   432.30145091,   431.98349549,\n",
       "         431.67000882,   431.36092809,   431.05619139,   430.75573766,\n",
       "         430.45950669,   430.16743915,   429.87947651,   429.59556109,\n",
       "         429.315636  ,   429.03964516,   428.76753327,   428.49924582,\n",
       "         428.23472905,   427.97392998,   427.71679634,   427.46327663,\n",
       "         427.21332005,   426.96687652,   426.72389667,   426.48433181,\n",
       "         426.24813395,   426.01525577,   425.78565062,   425.55927248,\n",
       "         425.33607601,   425.11601648,   424.89904982,   424.68513254,\n",
       "         424.4742218 ,   424.26627533,   424.06125148,   423.85910916,\n",
       "         423.65980789,   423.46330772,   423.2695693 ,   423.0785538 ,\n",
       "         422.89022295,   422.70453903,   422.52146484,   422.34096368,\n",
       "         422.16299941,   421.98753636,   421.81453938,   421.64397382,\n",
       "         421.47580549,   421.31000071,   421.14652626,   420.98534938,\n",
       "         420.82643779,   420.66975965,   420.51528356,   420.36297858,\n",
       "         420.21281419,   420.06476031,   419.91878727,   419.77486583,\n",
       "         419.63296716,   419.49306283,   419.3551248 ,   419.21912544,\n",
       "         419.08503751,   418.95283413,   418.82248883,   418.69397548,\n",
       "         418.56726834,   418.44234203,   418.31917151,   418.19773212,\n",
       "         418.07799951,   417.95994969,   417.84355903,   417.7288042 ,\n",
       "         417.61566221,   417.50411038,   417.39412638,   417.28568817,\n",
       "         417.17877401,   417.0733625 ,   416.96943251,   416.86696322,\n",
       "         416.7659341 ,   416.66632491,   416.56811568,   416.47128676,\n",
       "         416.37581873,   416.28169247,   416.18888913,   416.0973901 ,\n",
       "         416.00717706,   415.91823193,   415.83053689,   415.74407438,\n",
       "         415.65882706,   415.57477787,   415.49190996,   415.41020673,\n",
       "         415.32965181,   415.25022906,   415.17192257,   415.09471665,\n",
       "         415.01859583,   414.94354486,   414.86954871,   414.79659254,\n",
       "         414.72466175,   414.65374193,   414.58381885,   414.51487852,\n",
       "         414.44690712,   414.37989104,   414.31381684,   414.2486713 ,\n",
       "         414.18444135,   414.12111413,   414.05867695,   413.99711731,\n",
       "         413.93642286,   413.87658145,   413.8175811 ,   413.75940997,\n",
       "         413.70205642,   413.64550895,   413.58975623,   413.5347871 ,\n",
       "         413.48059055,   413.4271557 ,   413.37447187,   413.32252848,\n",
       "         413.27131515,   413.22082159,   413.17103771,   413.12195352,\n",
       "         413.0735592 ,   413.02584504,   412.97880148,   412.93241911,\n",
       "         412.88668862,   412.84160086,   412.79714679,   412.75331751,\n",
       "         412.71010423,   412.6674983 ,   412.62549118,   412.58407446,\n",
       "         412.54323983,   412.50297913,   412.46328427,   412.4241473 ,\n",
       "         412.3855604 ,   412.34751582,   412.31000594,   412.27302325,\n",
       "         412.23656034,   412.20060991,   412.16516474,   412.13021774,\n",
       "         412.09576192,   412.06179035,   412.02829624,   411.99527289,\n",
       "         411.96271366,   411.93061204,   411.8989616 ,   411.867756  ,\n",
       "         411.83698898,   411.80665437,   411.77674611,   411.74725821,\n",
       "         411.71818474,   411.68951989,   411.66125791,   411.63339315,\n",
       "         411.60592002,   411.57883301,   411.5521267 ,   411.52579574,\n",
       "         411.49983485,   411.47423883,   411.44900255,   411.42412096,\n",
       "         411.39958908,   411.37540198,   411.35155482,   411.32804282,\n",
       "         411.30486128,   411.28200555,   411.25947104,   411.23725325,\n",
       "         411.21534772,   411.19375007,   411.17245597,   411.15146114,\n",
       "         411.1307614 ,   411.11035257,   411.09023059,   411.07039142,\n",
       "         411.05083107,   411.03154565,   411.01253127,   410.99378413,\n",
       "         410.97530048,   410.9570766 ,   410.93910886,   410.92139365,\n",
       "         410.90392742,   410.88670667,   410.86972795,   410.85298786,\n",
       "         410.83648305,   410.82021021,   410.80416607,   410.78834744,\n",
       "         410.77275112,   410.75737401,   410.74221302,   410.72726511,\n",
       "         410.71252728,   410.6979966 ,   410.68367013,   410.66954502,\n",
       "         410.65561844,   410.64188758,   410.62834971,   410.61500211,\n",
       "         410.6018421 ,   410.58886706,   410.57607437,   410.56346148,\n",
       "         410.55102586,   410.53876502,   410.5266765 ,   410.51475788,\n",
       "         410.50300677,   410.49142082,   410.4799977 ,   410.46873514,\n",
       "         410.45763086,   410.44668266,   410.43588832,   410.4252457 ,\n",
       "         410.41475265,   410.40440708,   410.39420691,   410.38415011,\n",
       "         410.37423465,   410.36445854,   410.35481984,   410.3453166 ,\n",
       "         410.33594693,   410.32670895,   410.3176008 ,   410.30862067,\n",
       "         410.29976674,   410.29103726,   410.28243047,   410.27394464,\n",
       "         410.26557808,   410.2573291 ,   410.24919607,   410.24117734,\n",
       "         410.23327131,   410.22547639,   410.21779103,   410.21021369,\n",
       "         410.20274284,   410.195377  ,   410.18811467,   410.18095442,\n",
       "         410.1738948 ,   410.16693441,   410.16007183,   410.15330571,\n",
       "         410.14663469])"
      ]
     },
     "execution_count": 21,
     "metadata": {},
     "output_type": "execute_result"
    }
   ],
   "source": [
    "x=np.linspace(0,20,len(decay))\n",
    "#y=expo(x,param[0], param[1])\n",
    "y=param[0]*np.exp(-x*param[1])+param[2]\n",
    "y"
   ]
  },
  {
   "cell_type": "code",
   "execution_count": 35,
   "id": "8d973c77",
   "metadata": {},
   "outputs": [
    {
     "data": {
      "text/plain": [
       "Text(0.5, 1.0, 'Frecuencia vs. Tiempo (regresión)')"
      ]
     },
     "execution_count": 35,
     "metadata": {},
     "output_type": "execute_result"
    },
    {
     "data": {
      "image/png": "[encoded data removed]",
      "text/plain": [
       "<Figure size 640x480 with 1 Axes>"
      ]
     },
     "metadata": {},
     "output_type": "display_data"
    }
   ],
   "source": [
    "plt.plot(x,y,color='red')\n",
    "plt.scatter(Time, decay, s=5)\n",
    "#plt.errorbar(Time, decay,Ter,Der,fmt='o')\n",
    "plt.xlabel('Muon Decay Time (µs)')\n",
    "plt.ylabel('Frecuencia')\n",
    "plt.title('Frecuencia vs. Tiempo (regresión)')"
   ]
  },
  {
   "cell_type": "code",
   "execution_count": 23,
   "id": "972456af",
   "metadata": {},
   "outputs": [],
   "source": [
    "y_fit=param[0]*np.exp(-Time*param[1])+param[2]"
   ]
  },
  {
   "cell_type": "code",
   "execution_count": 24,
   "id": "302d37d8",
   "metadata": {},
   "outputs": [],
   "source": [
    "residual=(decay-y_fit)"
   ]
  },
  {
   "cell_type": "code",
   "execution_count": 34,
   "id": "06f0793d",
   "metadata": {},
   "outputs": [
    {
     "data": {
      "text/plain": [
       "Text(0.5, 1.0, 'Frecuencia vs. Tiempo (regresión e incertidumbres)')"
      ]
     },
     "execution_count": 34,
     "metadata": {},
     "output_type": "execute_result"
    },
    {
     "data": {
      "image/png": "[encoded data removed]",
      "text/plain": [
       "<Figure size 640x480 with 1 Axes>"
      ]
     },
     "metadata": {},
     "output_type": "display_data"
    }
   ],
   "source": [
    "plt.plot(x,y,color='red')\n",
    "plt.scatter(Time, decay, s=5)\n",
    "plt.errorbar(Time, decay,Ter,Der,fmt='o')\n",
    "plt.xlabel('Muon Decay Time (µs)')\n",
    "plt.ylabel('Frecuencia')\n",
    "plt.title('Frecuencia vs. Tiempo (regresión e incertidumbres)')"
   ]
  },
  {
   "cell_type": "code",
   "execution_count": 30,
   "id": "e6dff1f8",
   "metadata": {},
   "outputs": [
    {
     "data": {
      "text/plain": [
       "<matplotlib.lines.Line2D at 0x14e8604a690>"
      ]
     },
     "execution_count": 30,
     "metadata": {},
     "output_type": "execute_result"
    },
    {
     "data": {
      "image/png": "[encoded data removed]",
      "text/plain": [
       "<Figure size 640x480 with 1 Axes>"
      ]
     },
     "metadata": {},
     "output_type": "display_data"
    }
   ],
   "source": [
    "fig, ax = plt.subplots()\n",
    "ax.set_title('Residuales primera toma de datos de la regresión exponencial con una constante')\n",
    "ax.scatter(Time,residual, s=1)\n",
    "ax.set_xlabel('Muon Decay Time (µs)')\n",
    "ax.set_ylabel('Residuales')\n",
    "ax.axhline(0, color='black', linewidth=1, linestyle='--')"
   ]
  },
  {
   "cell_type": "code",
   "execution_count": null,
   "id": "b145eeb9",
   "metadata": {},
   "outputs": [],
   "source": []
  },
  {
   "cell_type": "code",
   "execution_count": null,
   "id": "2962dd3a",
   "metadata": {},
   "outputs": [],
   "source": []
  }
 ],
 "metadata": {
  "kernelspec": {
   "display_name": "Python 3 (ipykernel)",
   "language": "python",
   "name": "python3"
  },
  "language_info": {
   "codemirror_mode": {
    "name": "ipython",
    "version": 3
   },
   "file_extension": ".py",
   "mimetype": "text/x-python",
   "name": "python",
   "nbconvert_exporter": "python",
   "pygments_lexer": "ipython3",
   "version": "3.11.5"
  }
 },
 "nbformat": 4,
 "nbformat_minor": 5
}
